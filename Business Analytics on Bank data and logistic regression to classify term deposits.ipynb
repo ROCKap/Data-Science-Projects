{
 "cells": [
  {
   "cell_type": "markdown",
   "metadata": {},
   "source": [
    "# EDA for Bank term deposit data"
   ]
  },
  {
   "cell_type": "markdown",
   "metadata": {},
   "source": [
    "### Considering the hypothesis that the term deposit plans are taken mostly by middle age people. "
   ]
  },
  {
   "cell_type": "code",
   "execution_count": 1,
   "metadata": {},
   "outputs": [],
   "source": [
    "import pandas as pd\n",
    "import altair as alt\n"
   ]
  },
  {
   "cell_type": "code",
   "execution_count": 2,
   "metadata": {},
   "outputs": [
    {
     "data": {
      "text/html": [
       "<div>\n",
       "<style scoped>\n",
       "    .dataframe tbody tr th:only-of-type {\n",
       "        vertical-align: middle;\n",
       "    }\n",
       "\n",
       "    .dataframe tbody tr th {\n",
       "        vertical-align: top;\n",
       "    }\n",
       "\n",
       "    .dataframe thead th {\n",
       "        text-align: right;\n",
       "    }\n",
       "</style>\n",
       "<table border=\"1\" class=\"dataframe\">\n",
       "  <thead>\n",
       "    <tr style=\"text-align: right;\">\n",
       "      <th></th>\n",
       "      <th>age</th>\n",
       "      <th>job</th>\n",
       "      <th>marital</th>\n",
       "      <th>education</th>\n",
       "      <th>default</th>\n",
       "      <th>balance</th>\n",
       "      <th>housing</th>\n",
       "      <th>loan</th>\n",
       "      <th>contact</th>\n",
       "      <th>day</th>\n",
       "      <th>month</th>\n",
       "      <th>duration</th>\n",
       "      <th>campaign</th>\n",
       "      <th>pdays</th>\n",
       "      <th>previous</th>\n",
       "      <th>poutcome</th>\n",
       "      <th>y</th>\n",
       "    </tr>\n",
       "  </thead>\n",
       "  <tbody>\n",
       "    <tr>\n",
       "      <td>0</td>\n",
       "      <td>58</td>\n",
       "      <td>management</td>\n",
       "      <td>married</td>\n",
       "      <td>tertiary</td>\n",
       "      <td>no</td>\n",
       "      <td>2143</td>\n",
       "      <td>yes</td>\n",
       "      <td>no</td>\n",
       "      <td>unknown</td>\n",
       "      <td>5</td>\n",
       "      <td>may</td>\n",
       "      <td>261</td>\n",
       "      <td>1</td>\n",
       "      <td>-1</td>\n",
       "      <td>0</td>\n",
       "      <td>unknown</td>\n",
       "      <td>no</td>\n",
       "    </tr>\n",
       "    <tr>\n",
       "      <td>1</td>\n",
       "      <td>44</td>\n",
       "      <td>technician</td>\n",
       "      <td>single</td>\n",
       "      <td>secondary</td>\n",
       "      <td>no</td>\n",
       "      <td>29</td>\n",
       "      <td>yes</td>\n",
       "      <td>no</td>\n",
       "      <td>unknown</td>\n",
       "      <td>5</td>\n",
       "      <td>may</td>\n",
       "      <td>151</td>\n",
       "      <td>1</td>\n",
       "      <td>-1</td>\n",
       "      <td>0</td>\n",
       "      <td>unknown</td>\n",
       "      <td>no</td>\n",
       "    </tr>\n",
       "    <tr>\n",
       "      <td>2</td>\n",
       "      <td>33</td>\n",
       "      <td>entrepreneur</td>\n",
       "      <td>married</td>\n",
       "      <td>secondary</td>\n",
       "      <td>no</td>\n",
       "      <td>2</td>\n",
       "      <td>yes</td>\n",
       "      <td>yes</td>\n",
       "      <td>unknown</td>\n",
       "      <td>5</td>\n",
       "      <td>may</td>\n",
       "      <td>76</td>\n",
       "      <td>1</td>\n",
       "      <td>-1</td>\n",
       "      <td>0</td>\n",
       "      <td>unknown</td>\n",
       "      <td>no</td>\n",
       "    </tr>\n",
       "    <tr>\n",
       "      <td>3</td>\n",
       "      <td>47</td>\n",
       "      <td>blue-collar</td>\n",
       "      <td>married</td>\n",
       "      <td>unknown</td>\n",
       "      <td>no</td>\n",
       "      <td>1506</td>\n",
       "      <td>yes</td>\n",
       "      <td>no</td>\n",
       "      <td>unknown</td>\n",
       "      <td>5</td>\n",
       "      <td>may</td>\n",
       "      <td>92</td>\n",
       "      <td>1</td>\n",
       "      <td>-1</td>\n",
       "      <td>0</td>\n",
       "      <td>unknown</td>\n",
       "      <td>no</td>\n",
       "    </tr>\n",
       "    <tr>\n",
       "      <td>4</td>\n",
       "      <td>33</td>\n",
       "      <td>unknown</td>\n",
       "      <td>single</td>\n",
       "      <td>unknown</td>\n",
       "      <td>no</td>\n",
       "      <td>1</td>\n",
       "      <td>no</td>\n",
       "      <td>no</td>\n",
       "      <td>unknown</td>\n",
       "      <td>5</td>\n",
       "      <td>may</td>\n",
       "      <td>198</td>\n",
       "      <td>1</td>\n",
       "      <td>-1</td>\n",
       "      <td>0</td>\n",
       "      <td>unknown</td>\n",
       "      <td>no</td>\n",
       "    </tr>\n",
       "  </tbody>\n",
       "</table>\n",
       "</div>"
      ],
      "text/plain": [
       "   age           job  marital  education default  balance housing loan  \\\n",
       "0   58    management  married   tertiary      no     2143     yes   no   \n",
       "1   44    technician   single  secondary      no       29     yes   no   \n",
       "2   33  entrepreneur  married  secondary      no        2     yes  yes   \n",
       "3   47   blue-collar  married    unknown      no     1506     yes   no   \n",
       "4   33       unknown   single    unknown      no        1      no   no   \n",
       "\n",
       "   contact  day month  duration  campaign  pdays  previous poutcome   y  \n",
       "0  unknown    5   may       261         1     -1         0  unknown  no  \n",
       "1  unknown    5   may       151         1     -1         0  unknown  no  \n",
       "2  unknown    5   may        76         1     -1         0  unknown  no  \n",
       "3  unknown    5   may        92         1     -1         0  unknown  no  \n",
       "4  unknown    5   may       198         1     -1         0  unknown  no  "
      ]
     },
     "execution_count": 2,
     "metadata": {},
     "output_type": "execute_result"
    }
   ],
   "source": [
    "df=pd.read_csv(\"bank-full1.csv\",sep=\";\")\n",
    "df.head()"
   ]
  },
  {
   "cell_type": "code",
   "execution_count": 3,
   "metadata": {},
   "outputs": [
    {
     "data": {
      "text/html": [
       "<div>\n",
       "<style scoped>\n",
       "    .dataframe tbody tr th:only-of-type {\n",
       "        vertical-align: middle;\n",
       "    }\n",
       "\n",
       "    .dataframe tbody tr th {\n",
       "        vertical-align: top;\n",
       "    }\n",
       "\n",
       "    .dataframe thead th {\n",
       "        text-align: right;\n",
       "    }\n",
       "</style>\n",
       "<table border=\"1\" class=\"dataframe\">\n",
       "  <thead>\n",
       "    <tr style=\"text-align: right;\">\n",
       "      <th></th>\n",
       "      <th>age</th>\n",
       "      <th>balance</th>\n",
       "      <th>day</th>\n",
       "      <th>duration</th>\n",
       "      <th>campaign</th>\n",
       "      <th>pdays</th>\n",
       "      <th>previous</th>\n",
       "    </tr>\n",
       "  </thead>\n",
       "  <tbody>\n",
       "    <tr>\n",
       "      <td>count</td>\n",
       "      <td>45211.000000</td>\n",
       "      <td>45211.000000</td>\n",
       "      <td>45211.000000</td>\n",
       "      <td>45211.000000</td>\n",
       "      <td>45211.000000</td>\n",
       "      <td>45211.000000</td>\n",
       "      <td>45211.000000</td>\n",
       "    </tr>\n",
       "    <tr>\n",
       "      <td>mean</td>\n",
       "      <td>40.936210</td>\n",
       "      <td>1362.272058</td>\n",
       "      <td>15.806419</td>\n",
       "      <td>258.163080</td>\n",
       "      <td>2.763841</td>\n",
       "      <td>40.197828</td>\n",
       "      <td>0.580323</td>\n",
       "    </tr>\n",
       "    <tr>\n",
       "      <td>std</td>\n",
       "      <td>10.618762</td>\n",
       "      <td>3044.765829</td>\n",
       "      <td>8.322476</td>\n",
       "      <td>257.527812</td>\n",
       "      <td>3.098021</td>\n",
       "      <td>100.128746</td>\n",
       "      <td>2.303441</td>\n",
       "    </tr>\n",
       "    <tr>\n",
       "      <td>min</td>\n",
       "      <td>18.000000</td>\n",
       "      <td>-8019.000000</td>\n",
       "      <td>1.000000</td>\n",
       "      <td>0.000000</td>\n",
       "      <td>1.000000</td>\n",
       "      <td>-1.000000</td>\n",
       "      <td>0.000000</td>\n",
       "    </tr>\n",
       "    <tr>\n",
       "      <td>25%</td>\n",
       "      <td>33.000000</td>\n",
       "      <td>72.000000</td>\n",
       "      <td>8.000000</td>\n",
       "      <td>103.000000</td>\n",
       "      <td>1.000000</td>\n",
       "      <td>-1.000000</td>\n",
       "      <td>0.000000</td>\n",
       "    </tr>\n",
       "    <tr>\n",
       "      <td>50%</td>\n",
       "      <td>39.000000</td>\n",
       "      <td>448.000000</td>\n",
       "      <td>16.000000</td>\n",
       "      <td>180.000000</td>\n",
       "      <td>2.000000</td>\n",
       "      <td>-1.000000</td>\n",
       "      <td>0.000000</td>\n",
       "    </tr>\n",
       "    <tr>\n",
       "      <td>75%</td>\n",
       "      <td>48.000000</td>\n",
       "      <td>1428.000000</td>\n",
       "      <td>21.000000</td>\n",
       "      <td>319.000000</td>\n",
       "      <td>3.000000</td>\n",
       "      <td>-1.000000</td>\n",
       "      <td>0.000000</td>\n",
       "    </tr>\n",
       "    <tr>\n",
       "      <td>max</td>\n",
       "      <td>95.000000</td>\n",
       "      <td>102127.000000</td>\n",
       "      <td>31.000000</td>\n",
       "      <td>4918.000000</td>\n",
       "      <td>63.000000</td>\n",
       "      <td>871.000000</td>\n",
       "      <td>275.000000</td>\n",
       "    </tr>\n",
       "  </tbody>\n",
       "</table>\n",
       "</div>"
      ],
      "text/plain": [
       "                age        balance           day      duration      campaign  \\\n",
       "count  45211.000000   45211.000000  45211.000000  45211.000000  45211.000000   \n",
       "mean      40.936210    1362.272058     15.806419    258.163080      2.763841   \n",
       "std       10.618762    3044.765829      8.322476    257.527812      3.098021   \n",
       "min       18.000000   -8019.000000      1.000000      0.000000      1.000000   \n",
       "25%       33.000000      72.000000      8.000000    103.000000      1.000000   \n",
       "50%       39.000000     448.000000     16.000000    180.000000      2.000000   \n",
       "75%       48.000000    1428.000000     21.000000    319.000000      3.000000   \n",
       "max       95.000000  102127.000000     31.000000   4918.000000     63.000000   \n",
       "\n",
       "              pdays      previous  \n",
       "count  45211.000000  45211.000000  \n",
       "mean      40.197828      0.580323  \n",
       "std      100.128746      2.303441  \n",
       "min       -1.000000      0.000000  \n",
       "25%       -1.000000      0.000000  \n",
       "50%       -1.000000      0.000000  \n",
       "75%       -1.000000      0.000000  \n",
       "max      871.000000    275.000000  "
      ]
     },
     "execution_count": 3,
     "metadata": {},
     "output_type": "execute_result"
    }
   ],
   "source": [
    "df.describe()"
   ]
  },
  {
   "cell_type": "code",
   "execution_count": 4,
   "metadata": {},
   "outputs": [
    {
     "data": {
      "text/plain": [
       "(45211, 17)"
      ]
     },
     "execution_count": 4,
     "metadata": {},
     "output_type": "execute_result"
    }
   ],
   "source": [
    "df.shape\n"
   ]
  },
  {
   "cell_type": "code",
   "execution_count": 5,
   "metadata": {},
   "outputs": [
    {
     "data": {
      "text/html": [
       "<div>\n",
       "<style scoped>\n",
       "    .dataframe tbody tr th:only-of-type {\n",
       "        vertical-align: middle;\n",
       "    }\n",
       "\n",
       "    .dataframe tbody tr th {\n",
       "        vertical-align: top;\n",
       "    }\n",
       "\n",
       "    .dataframe thead th {\n",
       "        text-align: right;\n",
       "    }\n",
       "</style>\n",
       "<table border=\"1\" class=\"dataframe\">\n",
       "  <thead>\n",
       "    <tr style=\"text-align: right;\">\n",
       "      <th></th>\n",
       "      <th>age</th>\n",
       "      <th>agegroup</th>\n",
       "    </tr>\n",
       "  </thead>\n",
       "  <tbody>\n",
       "    <tr>\n",
       "      <td>0</td>\n",
       "      <td>18</td>\n",
       "      <td>7</td>\n",
       "    </tr>\n",
       "    <tr>\n",
       "      <td>1</td>\n",
       "      <td>19</td>\n",
       "      <td>11</td>\n",
       "    </tr>\n",
       "    <tr>\n",
       "      <td>2</td>\n",
       "      <td>20</td>\n",
       "      <td>15</td>\n",
       "    </tr>\n",
       "    <tr>\n",
       "      <td>3</td>\n",
       "      <td>21</td>\n",
       "      <td>22</td>\n",
       "    </tr>\n",
       "    <tr>\n",
       "      <td>4</td>\n",
       "      <td>22</td>\n",
       "      <td>40</td>\n",
       "    </tr>\n",
       "    <tr>\n",
       "      <td>...</td>\n",
       "      <td>...</td>\n",
       "      <td>...</td>\n",
       "    </tr>\n",
       "    <tr>\n",
       "      <td>69</td>\n",
       "      <td>87</td>\n",
       "      <td>3</td>\n",
       "    </tr>\n",
       "    <tr>\n",
       "      <td>70</td>\n",
       "      <td>90</td>\n",
       "      <td>2</td>\n",
       "    </tr>\n",
       "    <tr>\n",
       "      <td>71</td>\n",
       "      <td>92</td>\n",
       "      <td>2</td>\n",
       "    </tr>\n",
       "    <tr>\n",
       "      <td>72</td>\n",
       "      <td>93</td>\n",
       "      <td>2</td>\n",
       "    </tr>\n",
       "    <tr>\n",
       "      <td>73</td>\n",
       "      <td>95</td>\n",
       "      <td>1</td>\n",
       "    </tr>\n",
       "  </tbody>\n",
       "</table>\n",
       "<p>74 rows × 2 columns</p>\n",
       "</div>"
      ],
      "text/plain": [
       "    age  agegroup\n",
       "0    18         7\n",
       "1    19        11\n",
       "2    20        15\n",
       "3    21        22\n",
       "4    22        40\n",
       "..  ...       ...\n",
       "69   87         3\n",
       "70   90         2\n",
       "71   92         2\n",
       "72   93         2\n",
       "73   95         1\n",
       "\n",
       "[74 rows x 2 columns]"
      ]
     },
     "execution_count": 5,
     "metadata": {},
     "output_type": "execute_result"
    }
   ],
   "source": [
    "filteryes=df['y']=='yes'\n",
    "dffilter=df[filteryes].groupby('age')['y'].agg(agegroup='count').reset_index()\n",
    "dffilter"
   ]
  },
  {
   "cell_type": "code",
   "execution_count": 6,
   "metadata": {},
   "outputs": [
    {
     "data": {
      "text/html": [
       "\n",
       "<div id=\"altair-viz-ddbc7a9c596444caba6e8f1088a48491\"></div>\n",
       "<script type=\"text/javascript\">\n",
       "  (function(spec, embedOpt){\n",
       "    let outputDiv = document.currentScript.previousElementSibling;\n",
       "    if (outputDiv.id !== \"altair-viz-ddbc7a9c596444caba6e8f1088a48491\") {\n",
       "      outputDiv = document.getElementById(\"altair-viz-ddbc7a9c596444caba6e8f1088a48491\");\n",
       "    }\n",
       "    const paths = {\n",
       "      \"vega\": \"https://cdn.jsdelivr.net/npm//vega@5?noext\",\n",
       "      \"vega-lib\": \"https://cdn.jsdelivr.net/npm//vega-lib?noext\",\n",
       "      \"vega-lite\": \"https://cdn.jsdelivr.net/npm//vega-lite@4.8.1?noext\",\n",
       "      \"vega-embed\": \"https://cdn.jsdelivr.net/npm//vega-embed@6?noext\",\n",
       "    };\n",
       "\n",
       "    function loadScript(lib) {\n",
       "      return new Promise(function(resolve, reject) {\n",
       "        var s = document.createElement('script');\n",
       "        s.src = paths[lib];\n",
       "        s.async = true;\n",
       "        s.onload = () => resolve(paths[lib]);\n",
       "        s.onerror = () => reject(`Error loading script: ${paths[lib]}`);\n",
       "        document.getElementsByTagName(\"head\")[0].appendChild(s);\n",
       "      });\n",
       "    }\n",
       "\n",
       "    function showError(err) {\n",
       "      outputDiv.innerHTML = `<div class=\"error\" style=\"color:red;\">${err}</div>`;\n",
       "      throw err;\n",
       "    }\n",
       "\n",
       "    function displayChart(vegaEmbed) {\n",
       "      vegaEmbed(outputDiv, spec, embedOpt)\n",
       "        .catch(err => showError(`Javascript Error: ${err.message}<br>This usually means there's a typo in your chart specification. See the javascript console for the full traceback.`));\n",
       "    }\n",
       "\n",
       "    if(typeof define === \"function\" && define.amd) {\n",
       "      requirejs.config({paths});\n",
       "      require([\"vega-embed\"], displayChart, err => showError(`Error loading script: ${err.message}`));\n",
       "    } else if (typeof vegaEmbed === \"function\") {\n",
       "      displayChart(vegaEmbed);\n",
       "    } else {\n",
       "      loadScript(\"vega\")\n",
       "        .then(() => loadScript(\"vega-lite\"))\n",
       "        .then(() => loadScript(\"vega-embed\"))\n",
       "        .catch(showError)\n",
       "        .then(() => displayChart(vegaEmbed));\n",
       "    }\n",
       "  })({\"config\": {\"view\": {\"continuousWidth\": 400, \"continuousHeight\": 300}}, \"data\": {\"name\": \"data-43dc1cc274aad988620393d3e4e093a0\"}, \"mark\": \"line\", \"encoding\": {\"x\": {\"type\": \"quantitative\", \"field\": \"age\"}, \"y\": {\"type\": \"quantitative\", \"field\": \"agegroup\"}}, \"$schema\": \"https://vega.github.io/schema/vega-lite/v4.8.1.json\", \"datasets\": {\"data-43dc1cc274aad988620393d3e4e093a0\": [{\"age\": 18, \"agegroup\": 7}, {\"age\": 19, \"agegroup\": 11}, {\"age\": 20, \"agegroup\": 15}, {\"age\": 21, \"agegroup\": 22}, {\"age\": 22, \"agegroup\": 40}, {\"age\": 23, \"agegroup\": 44}, {\"age\": 24, \"agegroup\": 68}, {\"age\": 25, \"agegroup\": 113}, {\"age\": 26, \"agegroup\": 134}, {\"age\": 27, \"agegroup\": 141}, {\"age\": 28, \"agegroup\": 162}, {\"age\": 29, \"agegroup\": 171}, {\"age\": 30, \"agegroup\": 217}, {\"age\": 31, \"agegroup\": 206}, {\"age\": 32, \"agegroup\": 221}, {\"age\": 33, \"agegroup\": 210}, {\"age\": 34, \"agegroup\": 198}, {\"age\": 35, \"agegroup\": 209}, {\"age\": 36, \"agegroup\": 195}, {\"age\": 37, \"agegroup\": 170}, {\"age\": 38, \"agegroup\": 144}, {\"age\": 39, \"agegroup\": 143}, {\"age\": 40, \"agegroup\": 116}, {\"age\": 41, \"agegroup\": 120}, {\"age\": 42, \"agegroup\": 111}, {\"age\": 43, \"agegroup\": 103}, {\"age\": 44, \"agegroup\": 93}, {\"age\": 45, \"agegroup\": 106}, {\"age\": 46, \"agegroup\": 118}, {\"age\": 47, \"agegroup\": 113}, {\"age\": 48, \"agegroup\": 82}, {\"age\": 49, \"agegroup\": 101}, {\"age\": 50, \"agegroup\": 72}, {\"age\": 51, \"agegroup\": 77}, {\"age\": 52, \"agegroup\": 85}, {\"age\": 53, \"agegroup\": 85}, {\"age\": 54, \"agegroup\": 84}, {\"age\": 55, \"agegroup\": 76}, {\"age\": 56, \"agegroup\": 68}, {\"age\": 57, \"agegroup\": 78}, {\"age\": 58, \"agegroup\": 72}, {\"age\": 59, \"agegroup\": 88}, {\"age\": 60, \"agegroup\": 98}, {\"age\": 61, \"agegroup\": 57}, {\"age\": 62, \"agegroup\": 39}, {\"age\": 63, \"agegroup\": 30}, {\"age\": 64, \"agegroup\": 35}, {\"age\": 65, \"agegroup\": 21}, {\"age\": 66, \"agegroup\": 24}, {\"age\": 67, \"agegroup\": 23}, {\"age\": 68, \"agegroup\": 21}, {\"age\": 69, \"agegroup\": 17}, {\"age\": 70, \"agegroup\": 17}, {\"age\": 71, \"agegroup\": 25}, {\"age\": 72, \"agegroup\": 24}, {\"age\": 73, \"agegroup\": 24}, {\"age\": 74, \"agegroup\": 13}, {\"age\": 75, \"agegroup\": 15}, {\"age\": 76, \"agegroup\": 16}, {\"age\": 77, \"agegroup\": 22}, {\"age\": 78, \"agegroup\": 14}, {\"age\": 79, \"agegroup\": 10}, {\"age\": 80, \"agegroup\": 12}, {\"age\": 81, \"agegroup\": 6}, {\"age\": 82, \"agegroup\": 8}, {\"age\": 83, \"agegroup\": 6}, {\"age\": 84, \"agegroup\": 5}, {\"age\": 85, \"agegroup\": 4}, {\"age\": 86, \"agegroup\": 4}, {\"age\": 87, \"agegroup\": 3}, {\"age\": 90, \"agegroup\": 2}, {\"age\": 92, \"agegroup\": 2}, {\"age\": 93, \"agegroup\": 2}, {\"age\": 95, \"agegroup\": 1}]}}, {\"mode\": \"vega-lite\"});\n",
       "</script>"
      ],
      "text/plain": [
       "alt.Chart(...)"
      ]
     },
     "execution_count": 6,
     "metadata": {},
     "output_type": "execute_result"
    }
   ],
   "source": [
    "alt.Chart(dffilter).mark_line().encode(x='age',y='agegroup')"
   ]
  },
  {
   "cell_type": "markdown",
   "metadata": {},
   "source": [
    "We are taking the data based on the absolute count of customers in each age range. If the proportion of banking customers is higher within the age range of 25 to 40, then we are very likely to get a plot like the one that we have got. What we really should plot is the proportion of customers, within each age group, who buy a term deposit."
   ]
  },
  {
   "cell_type": "code",
   "execution_count": 7,
   "metadata": {},
   "outputs": [
    {
     "data": {
      "text/html": [
       "<div>\n",
       "<style scoped>\n",
       "    .dataframe tbody tr th:only-of-type {\n",
       "        vertical-align: middle;\n",
       "    }\n",
       "\n",
       "    .dataframe tbody tr th {\n",
       "        vertical-align: top;\n",
       "    }\n",
       "\n",
       "    .dataframe thead th {\n",
       "        text-align: right;\n",
       "    }\n",
       "</style>\n",
       "<table border=\"1\" class=\"dataframe\">\n",
       "  <thead>\n",
       "    <tr style=\"text-align: right;\">\n",
       "      <th></th>\n",
       "      <th>age</th>\n",
       "      <th>agetot</th>\n",
       "    </tr>\n",
       "  </thead>\n",
       "  <tbody>\n",
       "    <tr>\n",
       "      <td>0</td>\n",
       "      <td>18</td>\n",
       "      <td>12</td>\n",
       "    </tr>\n",
       "    <tr>\n",
       "      <td>1</td>\n",
       "      <td>19</td>\n",
       "      <td>35</td>\n",
       "    </tr>\n",
       "    <tr>\n",
       "      <td>2</td>\n",
       "      <td>20</td>\n",
       "      <td>50</td>\n",
       "    </tr>\n",
       "    <tr>\n",
       "      <td>3</td>\n",
       "      <td>21</td>\n",
       "      <td>79</td>\n",
       "    </tr>\n",
       "    <tr>\n",
       "      <td>4</td>\n",
       "      <td>22</td>\n",
       "      <td>129</td>\n",
       "    </tr>\n",
       "  </tbody>\n",
       "</table>\n",
       "</div>"
      ],
      "text/plain": [
       "   age  agetot\n",
       "0   18      12\n",
       "1   19      35\n",
       "2   20      50\n",
       "3   21      79\n",
       "4   22     129"
      ]
     },
     "execution_count": 7,
     "metadata": {},
     "output_type": "execute_result"
    }
   ],
   "source": [
    "dff1= df.groupby(['age'])['y'].agg(agetot='count').reset_index()\n",
    "dff1.head()"
   ]
  },
  {
   "cell_type": "code",
   "execution_count": null,
   "metadata": {},
   "outputs": [],
   "source": []
  },
  {
   "cell_type": "code",
   "execution_count": 8,
   "metadata": {},
   "outputs": [
    {
     "data": {
      "text/html": [
       "<div>\n",
       "<style scoped>\n",
       "    .dataframe tbody tr th:only-of-type {\n",
       "        vertical-align: middle;\n",
       "    }\n",
       "\n",
       "    .dataframe tbody tr th {\n",
       "        vertical-align: top;\n",
       "    }\n",
       "\n",
       "    .dataframe thead th {\n",
       "        text-align: right;\n",
       "    }\n",
       "</style>\n",
       "<table border=\"1\" class=\"dataframe\">\n",
       "  <thead>\n",
       "    <tr style=\"text-align: right;\">\n",
       "      <th></th>\n",
       "      <th>age</th>\n",
       "      <th>y</th>\n",
       "      <th>agetot</th>\n",
       "    </tr>\n",
       "  </thead>\n",
       "  <tbody>\n",
       "    <tr>\n",
       "      <td>0</td>\n",
       "      <td>18</td>\n",
       "      <td>no</td>\n",
       "      <td>5</td>\n",
       "    </tr>\n",
       "    <tr>\n",
       "      <td>1</td>\n",
       "      <td>18</td>\n",
       "      <td>yes</td>\n",
       "      <td>7</td>\n",
       "    </tr>\n",
       "    <tr>\n",
       "      <td>2</td>\n",
       "      <td>19</td>\n",
       "      <td>no</td>\n",
       "      <td>24</td>\n",
       "    </tr>\n",
       "    <tr>\n",
       "      <td>3</td>\n",
       "      <td>19</td>\n",
       "      <td>yes</td>\n",
       "      <td>11</td>\n",
       "    </tr>\n",
       "    <tr>\n",
       "      <td>4</td>\n",
       "      <td>20</td>\n",
       "      <td>no</td>\n",
       "      <td>35</td>\n",
       "    </tr>\n",
       "  </tbody>\n",
       "</table>\n",
       "</div>"
      ],
      "text/plain": [
       "   age    y  agetot\n",
       "0   18   no       5\n",
       "1   18  yes       7\n",
       "2   19   no      24\n",
       "3   19  yes      11\n",
       "4   20   no      35"
      ]
     },
     "execution_count": 8,
     "metadata": {},
     "output_type": "execute_result"
    }
   ],
   "source": [
    "dff2= df.groupby(['age','y'])['y'].agg(agetot='count').reset_index()\n",
    "dff2.head()"
   ]
  },
  {
   "cell_type": "code",
   "execution_count": 9,
   "metadata": {},
   "outputs": [
    {
     "data": {
      "text/html": [
       "\n",
       "<div id=\"altair-viz-5d84240334bd4cfebe6744f78a58763b\"></div>\n",
       "<script type=\"text/javascript\">\n",
       "  (function(spec, embedOpt){\n",
       "    let outputDiv = document.currentScript.previousElementSibling;\n",
       "    if (outputDiv.id !== \"altair-viz-5d84240334bd4cfebe6744f78a58763b\") {\n",
       "      outputDiv = document.getElementById(\"altair-viz-5d84240334bd4cfebe6744f78a58763b\");\n",
       "    }\n",
       "    const paths = {\n",
       "      \"vega\": \"https://cdn.jsdelivr.net/npm//vega@5?noext\",\n",
       "      \"vega-lib\": \"https://cdn.jsdelivr.net/npm//vega-lib?noext\",\n",
       "      \"vega-lite\": \"https://cdn.jsdelivr.net/npm//vega-lite@4.8.1?noext\",\n",
       "      \"vega-embed\": \"https://cdn.jsdelivr.net/npm//vega-embed@6?noext\",\n",
       "    };\n",
       "\n",
       "    function loadScript(lib) {\n",
       "      return new Promise(function(resolve, reject) {\n",
       "        var s = document.createElement('script');\n",
       "        s.src = paths[lib];\n",
       "        s.async = true;\n",
       "        s.onload = () => resolve(paths[lib]);\n",
       "        s.onerror = () => reject(`Error loading script: ${paths[lib]}`);\n",
       "        document.getElementsByTagName(\"head\")[0].appendChild(s);\n",
       "      });\n",
       "    }\n",
       "\n",
       "    function showError(err) {\n",
       "      outputDiv.innerHTML = `<div class=\"error\" style=\"color:red;\">${err}</div>`;\n",
       "      throw err;\n",
       "    }\n",
       "\n",
       "    function displayChart(vegaEmbed) {\n",
       "      vegaEmbed(outputDiv, spec, embedOpt)\n",
       "        .catch(err => showError(`Javascript Error: ${err.message}<br>This usually means there's a typo in your chart specification. See the javascript console for the full traceback.`));\n",
       "    }\n",
       "\n",
       "    if(typeof define === \"function\" && define.amd) {\n",
       "      requirejs.config({paths});\n",
       "      require([\"vega-embed\"], displayChart, err => showError(`Error loading script: ${err.message}`));\n",
       "    } else if (typeof vegaEmbed === \"function\") {\n",
       "      displayChart(vegaEmbed);\n",
       "    } else {\n",
       "      loadScript(\"vega\")\n",
       "        .then(() => loadScript(\"vega-lite\"))\n",
       "        .then(() => loadScript(\"vega-embed\"))\n",
       "        .catch(showError)\n",
       "        .then(() => displayChart(vegaEmbed));\n",
       "    }\n",
       "  })({\"config\": {\"view\": {\"continuousWidth\": 400, \"continuousHeight\": 300}}, \"data\": {\"name\": \"data-b655e86f3c92d405e37f96cae79f3524\"}, \"mark\": \"line\", \"encoding\": {\"x\": {\"type\": \"quantitative\", \"field\": \"age\"}, \"y\": {\"type\": \"quantitative\", \"field\": \"agetot\"}}, \"$schema\": \"https://vega.github.io/schema/vega-lite/v4.8.1.json\", \"datasets\": {\"data-b655e86f3c92d405e37f96cae79f3524\": [{\"age\": 18, \"y\": \"no\", \"agetot\": 5}, {\"age\": 18, \"y\": \"yes\", \"agetot\": 7}, {\"age\": 19, \"y\": \"no\", \"agetot\": 24}, {\"age\": 19, \"y\": \"yes\", \"agetot\": 11}, {\"age\": 20, \"y\": \"no\", \"agetot\": 35}, {\"age\": 20, \"y\": \"yes\", \"agetot\": 15}, {\"age\": 21, \"y\": \"no\", \"agetot\": 57}, {\"age\": 21, \"y\": \"yes\", \"agetot\": 22}, {\"age\": 22, \"y\": \"no\", \"agetot\": 89}, {\"age\": 22, \"y\": \"yes\", \"agetot\": 40}, {\"age\": 23, \"y\": \"no\", \"agetot\": 158}, {\"age\": 23, \"y\": \"yes\", \"agetot\": 44}, {\"age\": 24, \"y\": \"no\", \"agetot\": 234}, {\"age\": 24, \"y\": \"yes\", \"agetot\": 68}, {\"age\": 25, \"y\": \"no\", \"agetot\": 414}, {\"age\": 25, \"y\": \"yes\", \"agetot\": 113}, {\"age\": 26, \"y\": \"no\", \"agetot\": 671}, {\"age\": 26, \"y\": \"yes\", \"agetot\": 134}, {\"age\": 27, \"y\": \"no\", \"agetot\": 768}, {\"age\": 27, \"y\": \"yes\", \"agetot\": 141}, {\"age\": 28, \"y\": \"no\", \"agetot\": 876}, {\"age\": 28, \"y\": \"yes\", \"agetot\": 162}, {\"age\": 29, \"y\": \"no\", \"agetot\": 1014}, {\"age\": 29, \"y\": \"yes\", \"agetot\": 171}, {\"age\": 30, \"y\": \"no\", \"agetot\": 1540}, {\"age\": 30, \"y\": \"yes\", \"agetot\": 217}, {\"age\": 31, \"y\": \"no\", \"agetot\": 1790}, {\"age\": 31, \"y\": \"yes\", \"agetot\": 206}, {\"age\": 32, \"y\": \"no\", \"agetot\": 1864}, {\"age\": 32, \"y\": \"yes\", \"agetot\": 221}, {\"age\": 33, \"y\": \"no\", \"agetot\": 1762}, {\"age\": 33, \"y\": \"yes\", \"agetot\": 210}, {\"age\": 34, \"y\": \"no\", \"agetot\": 1732}, {\"age\": 34, \"y\": \"yes\", \"agetot\": 198}, {\"age\": 35, \"y\": \"no\", \"agetot\": 1685}, {\"age\": 35, \"y\": \"yes\", \"agetot\": 209}, {\"age\": 36, \"y\": \"no\", \"agetot\": 1611}, {\"age\": 36, \"y\": \"yes\", \"agetot\": 195}, {\"age\": 37, \"y\": \"no\", \"agetot\": 1526}, {\"age\": 37, \"y\": \"yes\", \"agetot\": 170}, {\"age\": 38, \"y\": \"no\", \"agetot\": 1322}, {\"age\": 38, \"y\": \"yes\", \"agetot\": 144}, {\"age\": 39, \"y\": \"no\", \"agetot\": 1344}, {\"age\": 39, \"y\": \"yes\", \"agetot\": 143}, {\"age\": 40, \"y\": \"no\", \"agetot\": 1239}, {\"age\": 40, \"y\": \"yes\", \"agetot\": 116}, {\"age\": 41, \"y\": \"no\", \"agetot\": 1171}, {\"age\": 41, \"y\": \"yes\", \"agetot\": 120}, {\"age\": 42, \"y\": \"no\", \"agetot\": 1131}, {\"age\": 42, \"y\": \"yes\", \"agetot\": 111}, {\"age\": 43, \"y\": \"no\", \"agetot\": 1058}, {\"age\": 43, \"y\": \"yes\", \"agetot\": 103}, {\"age\": 44, \"y\": \"no\", \"agetot\": 1043}, {\"age\": 44, \"y\": \"yes\", \"agetot\": 93}, {\"age\": 45, \"y\": \"no\", \"agetot\": 1110}, {\"age\": 45, \"y\": \"yes\", \"agetot\": 106}, {\"age\": 46, \"y\": \"no\", \"agetot\": 1057}, {\"age\": 46, \"y\": \"yes\", \"agetot\": 118}, {\"age\": 47, \"y\": \"no\", \"agetot\": 975}, {\"age\": 47, \"y\": \"yes\", \"agetot\": 113}, {\"age\": 48, \"y\": \"no\", \"agetot\": 915}, {\"age\": 48, \"y\": \"yes\", \"agetot\": 82}, {\"age\": 49, \"y\": \"no\", \"agetot\": 893}, {\"age\": 49, \"y\": \"yes\", \"agetot\": 101}, {\"age\": 50, \"y\": \"no\", \"agetot\": 867}, {\"age\": 50, \"y\": \"yes\", \"agetot\": 72}, {\"age\": 51, \"y\": \"no\", \"agetot\": 859}, {\"age\": 51, \"y\": \"yes\", \"agetot\": 77}, {\"age\": 52, \"y\": \"no\", \"agetot\": 826}, {\"age\": 52, \"y\": \"yes\", \"agetot\": 85}, {\"age\": 53, \"y\": \"no\", \"agetot\": 806}, {\"age\": 53, \"y\": \"yes\", \"agetot\": 85}, {\"age\": 54, \"y\": \"no\", \"agetot\": 727}, {\"age\": 54, \"y\": \"yes\", \"agetot\": 84}, {\"age\": 55, \"y\": \"no\", \"agetot\": 730}, {\"age\": 55, \"y\": \"yes\", \"agetot\": 76}, {\"age\": 56, \"y\": \"no\", \"agetot\": 710}, {\"age\": 56, \"y\": \"yes\", \"agetot\": 68}, {\"age\": 57, \"y\": \"no\", \"agetot\": 750}, {\"age\": 57, \"y\": \"yes\", \"agetot\": 78}, {\"age\": 58, \"y\": \"no\", \"agetot\": 668}, {\"age\": 58, \"y\": \"yes\", \"agetot\": 72}, {\"age\": 59, \"y\": \"no\", \"agetot\": 682}, {\"age\": 59, \"y\": \"yes\", \"agetot\": 88}, {\"age\": 60, \"y\": \"no\", \"agetot\": 498}, {\"age\": 60, \"y\": \"yes\", \"agetot\": 98}, {\"age\": 61, \"y\": \"no\", \"agetot\": 90}, {\"age\": 61, \"y\": \"yes\", \"agetot\": 57}, {\"age\": 62, \"y\": \"no\", \"agetot\": 41}, {\"age\": 62, \"y\": \"yes\", \"agetot\": 39}, {\"age\": 63, \"y\": \"no\", \"agetot\": 47}, {\"age\": 63, \"y\": \"yes\", \"agetot\": 30}, {\"age\": 64, \"y\": \"no\", \"agetot\": 39}, {\"age\": 64, \"y\": \"yes\", \"agetot\": 35}, {\"age\": 65, \"y\": \"no\", \"agetot\": 38}, {\"age\": 65, \"y\": \"yes\", \"agetot\": 21}, {\"age\": 66, \"y\": \"no\", \"agetot\": 39}, {\"age\": 66, \"y\": \"yes\", \"agetot\": 24}, {\"age\": 67, \"y\": \"no\", \"agetot\": 31}, {\"age\": 67, \"y\": \"yes\", \"agetot\": 23}, {\"age\": 68, \"y\": \"no\", \"agetot\": 15}, {\"age\": 68, \"y\": \"yes\", \"agetot\": 21}, {\"age\": 69, \"y\": \"no\", \"agetot\": 27}, {\"age\": 69, \"y\": \"yes\", \"agetot\": 17}, {\"age\": 70, \"y\": \"no\", \"agetot\": 50}, {\"age\": 70, \"y\": \"yes\", \"agetot\": 17}, {\"age\": 71, \"y\": \"no\", \"agetot\": 29}, {\"age\": 71, \"y\": \"yes\", \"agetot\": 25}, {\"age\": 72, \"y\": \"no\", \"agetot\": 28}, {\"age\": 72, \"y\": \"yes\", \"agetot\": 24}, {\"age\": 73, \"y\": \"no\", \"agetot\": 20}, {\"age\": 73, \"y\": \"yes\", \"agetot\": 24}, {\"age\": 74, \"y\": \"no\", \"agetot\": 24}, {\"age\": 74, \"y\": \"yes\", \"agetot\": 13}, {\"age\": 75, \"y\": \"no\", \"agetot\": 24}, {\"age\": 75, \"y\": \"yes\", \"agetot\": 15}, {\"age\": 76, \"y\": \"no\", \"agetot\": 16}, {\"age\": 76, \"y\": \"yes\", \"agetot\": 16}, {\"age\": 77, \"y\": \"no\", \"agetot\": 22}, {\"age\": 77, \"y\": \"yes\", \"agetot\": 22}, {\"age\": 78, \"y\": \"no\", \"agetot\": 16}, {\"age\": 78, \"y\": \"yes\", \"agetot\": 14}, {\"age\": 79, \"y\": \"no\", \"agetot\": 15}, {\"age\": 79, \"y\": \"yes\", \"agetot\": 10}, {\"age\": 80, \"y\": \"no\", \"agetot\": 19}, {\"age\": 80, \"y\": \"yes\", \"agetot\": 12}, {\"age\": 81, \"y\": \"no\", \"agetot\": 11}, {\"age\": 81, \"y\": \"yes\", \"agetot\": 6}, {\"age\": 82, \"y\": \"no\", \"agetot\": 11}, {\"age\": 82, \"y\": \"yes\", \"agetot\": 8}, {\"age\": 83, \"y\": \"no\", \"agetot\": 16}, {\"age\": 83, \"y\": \"yes\", \"agetot\": 6}, {\"age\": 84, \"y\": \"no\", \"agetot\": 4}, {\"age\": 84, \"y\": \"yes\", \"agetot\": 5}, {\"age\": 85, \"y\": \"no\", \"agetot\": 1}, {\"age\": 85, \"y\": \"yes\", \"agetot\": 4}, {\"age\": 86, \"y\": \"no\", \"agetot\": 5}, {\"age\": 86, \"y\": \"yes\", \"agetot\": 4}, {\"age\": 87, \"y\": \"no\", \"agetot\": 1}, {\"age\": 87, \"y\": \"yes\", \"agetot\": 3}, {\"age\": 88, \"y\": \"no\", \"agetot\": 2}, {\"age\": 89, \"y\": \"no\", \"agetot\": 3}, {\"age\": 90, \"y\": \"yes\", \"agetot\": 2}, {\"age\": 92, \"y\": \"yes\", \"agetot\": 2}, {\"age\": 93, \"y\": \"yes\", \"agetot\": 2}, {\"age\": 94, \"y\": \"no\", \"agetot\": 1}, {\"age\": 95, \"y\": \"no\", \"agetot\": 1}, {\"age\": 95, \"y\": \"yes\", \"agetot\": 1}]}}, {\"mode\": \"vega-lite\"});\n",
       "</script>"
      ],
      "text/plain": [
       "alt.Chart(...)"
      ]
     },
     "execution_count": 9,
     "metadata": {},
     "output_type": "execute_result"
    }
   ],
   "source": [
    "alt.Chart(dff2).mark_line().encode(x=\"age\",y=\"agetot\")"
   ]
  },
  {
   "cell_type": "code",
   "execution_count": 10,
   "metadata": {},
   "outputs": [
    {
     "data": {
      "text/html": [
       "<div>\n",
       "<style scoped>\n",
       "    .dataframe tbody tr th:only-of-type {\n",
       "        vertical-align: middle;\n",
       "    }\n",
       "\n",
       "    .dataframe tbody tr th {\n",
       "        vertical-align: top;\n",
       "    }\n",
       "\n",
       "    .dataframe thead th {\n",
       "        text-align: right;\n",
       "    }\n",
       "</style>\n",
       "<table border=\"1\" class=\"dataframe\">\n",
       "  <thead>\n",
       "    <tr style=\"text-align: right;\">\n",
       "      <th></th>\n",
       "      <th>age</th>\n",
       "      <th>agetot_x</th>\n",
       "      <th>y</th>\n",
       "      <th>agetot_y</th>\n",
       "      <th>prop</th>\n",
       "    </tr>\n",
       "  </thead>\n",
       "  <tbody>\n",
       "    <tr>\n",
       "      <td>0</td>\n",
       "      <td>18</td>\n",
       "      <td>12</td>\n",
       "      <td>no</td>\n",
       "      <td>5</td>\n",
       "      <td>41.666667</td>\n",
       "    </tr>\n",
       "    <tr>\n",
       "      <td>1</td>\n",
       "      <td>18</td>\n",
       "      <td>12</td>\n",
       "      <td>yes</td>\n",
       "      <td>7</td>\n",
       "      <td>58.333333</td>\n",
       "    </tr>\n",
       "    <tr>\n",
       "      <td>2</td>\n",
       "      <td>19</td>\n",
       "      <td>35</td>\n",
       "      <td>no</td>\n",
       "      <td>24</td>\n",
       "      <td>68.571429</td>\n",
       "    </tr>\n",
       "    <tr>\n",
       "      <td>3</td>\n",
       "      <td>19</td>\n",
       "      <td>35</td>\n",
       "      <td>yes</td>\n",
       "      <td>11</td>\n",
       "      <td>31.428571</td>\n",
       "    </tr>\n",
       "    <tr>\n",
       "      <td>4</td>\n",
       "      <td>20</td>\n",
       "      <td>50</td>\n",
       "      <td>no</td>\n",
       "      <td>35</td>\n",
       "      <td>70.000000</td>\n",
       "    </tr>\n",
       "  </tbody>\n",
       "</table>\n",
       "</div>"
      ],
      "text/plain": [
       "   age  agetot_x    y  agetot_y       prop\n",
       "0   18        12   no         5  41.666667\n",
       "1   18        12  yes         7  58.333333\n",
       "2   19        35   no        24  68.571429\n",
       "3   19        35  yes        11  31.428571\n",
       "4   20        50   no        35  70.000000"
      ]
     },
     "execution_count": 10,
     "metadata": {},
     "output_type": "execute_result"
    }
   ],
   "source": [
    "dfcomb=pd.merge(dff1,dff2, on=\"age\")\n",
    "dfcomb['prop']= (dfcomb.agetot_y/dfcomb.agetot_x)*100\n",
    "dfcomb.head()"
   ]
  },
  {
   "cell_type": "code",
   "execution_count": 11,
   "metadata": {},
   "outputs": [
    {
     "data": {
      "text/html": [
       "\n",
       "<div id=\"altair-viz-5cc7c8d3afae46a9990f99a74a780e36\"></div>\n",
       "<script type=\"text/javascript\">\n",
       "  (function(spec, embedOpt){\n",
       "    let outputDiv = document.currentScript.previousElementSibling;\n",
       "    if (outputDiv.id !== \"altair-viz-5cc7c8d3afae46a9990f99a74a780e36\") {\n",
       "      outputDiv = document.getElementById(\"altair-viz-5cc7c8d3afae46a9990f99a74a780e36\");\n",
       "    }\n",
       "    const paths = {\n",
       "      \"vega\": \"https://cdn.jsdelivr.net/npm//vega@5?noext\",\n",
       "      \"vega-lib\": \"https://cdn.jsdelivr.net/npm//vega-lib?noext\",\n",
       "      \"vega-lite\": \"https://cdn.jsdelivr.net/npm//vega-lite@4.8.1?noext\",\n",
       "      \"vega-embed\": \"https://cdn.jsdelivr.net/npm//vega-embed@6?noext\",\n",
       "    };\n",
       "\n",
       "    function loadScript(lib) {\n",
       "      return new Promise(function(resolve, reject) {\n",
       "        var s = document.createElement('script');\n",
       "        s.src = paths[lib];\n",
       "        s.async = true;\n",
       "        s.onload = () => resolve(paths[lib]);\n",
       "        s.onerror = () => reject(`Error loading script: ${paths[lib]}`);\n",
       "        document.getElementsByTagName(\"head\")[0].appendChild(s);\n",
       "      });\n",
       "    }\n",
       "\n",
       "    function showError(err) {\n",
       "      outputDiv.innerHTML = `<div class=\"error\" style=\"color:red;\">${err}</div>`;\n",
       "      throw err;\n",
       "    }\n",
       "\n",
       "    function displayChart(vegaEmbed) {\n",
       "      vegaEmbed(outputDiv, spec, embedOpt)\n",
       "        .catch(err => showError(`Javascript Error: ${err.message}<br>This usually means there's a typo in your chart specification. See the javascript console for the full traceback.`));\n",
       "    }\n",
       "\n",
       "    if(typeof define === \"function\" && define.amd) {\n",
       "      requirejs.config({paths});\n",
       "      require([\"vega-embed\"], displayChart, err => showError(`Error loading script: ${err.message}`));\n",
       "    } else if (typeof vegaEmbed === \"function\") {\n",
       "      displayChart(vegaEmbed);\n",
       "    } else {\n",
       "      loadScript(\"vega\")\n",
       "        .then(() => loadScript(\"vega-lite\"))\n",
       "        .then(() => loadScript(\"vega-embed\"))\n",
       "        .catch(showError)\n",
       "        .then(() => displayChart(vegaEmbed));\n",
       "    }\n",
       "  })({\"config\": {\"view\": {\"continuousWidth\": 400, \"continuousHeight\": 300}}, \"data\": {\"name\": \"data-4213631ae0ebb357a938fcf6bf6d4841\"}, \"facet\": {\"column\": {\"type\": \"nominal\", \"field\": \"y\"}}, \"spec\": {\"mark\": \"line\", \"encoding\": {\"x\": {\"type\": \"quantitative\", \"field\": \"age\"}, \"y\": {\"type\": \"quantitative\", \"field\": \"prop\"}}}, \"$schema\": \"https://vega.github.io/schema/vega-lite/v4.8.1.json\", \"datasets\": {\"data-4213631ae0ebb357a938fcf6bf6d4841\": [{\"age\": 18, \"agetot_x\": 12, \"y\": \"no\", \"agetot_y\": 5, \"prop\": 41.66666666666667}, {\"age\": 18, \"agetot_x\": 12, \"y\": \"yes\", \"agetot_y\": 7, \"prop\": 58.333333333333336}, {\"age\": 19, \"agetot_x\": 35, \"y\": \"no\", \"agetot_y\": 24, \"prop\": 68.57142857142857}, {\"age\": 19, \"agetot_x\": 35, \"y\": \"yes\", \"agetot_y\": 11, \"prop\": 31.428571428571427}, {\"age\": 20, \"agetot_x\": 50, \"y\": \"no\", \"agetot_y\": 35, \"prop\": 70.0}, {\"age\": 20, \"agetot_x\": 50, \"y\": \"yes\", \"agetot_y\": 15, \"prop\": 30.0}, {\"age\": 21, \"agetot_x\": 79, \"y\": \"no\", \"agetot_y\": 57, \"prop\": 72.15189873417721}, {\"age\": 21, \"agetot_x\": 79, \"y\": \"yes\", \"agetot_y\": 22, \"prop\": 27.848101265822784}, {\"age\": 22, \"agetot_x\": 129, \"y\": \"no\", \"agetot_y\": 89, \"prop\": 68.9922480620155}, {\"age\": 22, \"agetot_x\": 129, \"y\": \"yes\", \"agetot_y\": 40, \"prop\": 31.007751937984494}, {\"age\": 23, \"agetot_x\": 202, \"y\": \"no\", \"agetot_y\": 158, \"prop\": 78.21782178217822}, {\"age\": 23, \"agetot_x\": 202, \"y\": \"yes\", \"agetot_y\": 44, \"prop\": 21.782178217821784}, {\"age\": 24, \"agetot_x\": 302, \"y\": \"no\", \"agetot_y\": 234, \"prop\": 77.48344370860927}, {\"age\": 24, \"agetot_x\": 302, \"y\": \"yes\", \"agetot_y\": 68, \"prop\": 22.516556291390728}, {\"age\": 25, \"agetot_x\": 527, \"y\": \"no\", \"agetot_y\": 414, \"prop\": 78.55787476280834}, {\"age\": 25, \"agetot_x\": 527, \"y\": \"yes\", \"agetot_y\": 113, \"prop\": 21.44212523719165}, {\"age\": 26, \"agetot_x\": 805, \"y\": \"no\", \"agetot_y\": 671, \"prop\": 83.35403726708076}, {\"age\": 26, \"agetot_x\": 805, \"y\": \"yes\", \"agetot_y\": 134, \"prop\": 16.645962732919255}, {\"age\": 27, \"agetot_x\": 909, \"y\": \"no\", \"agetot_y\": 768, \"prop\": 84.48844884488449}, {\"age\": 27, \"agetot_x\": 909, \"y\": \"yes\", \"agetot_y\": 141, \"prop\": 15.51155115511551}, {\"age\": 28, \"agetot_x\": 1038, \"y\": \"no\", \"agetot_y\": 876, \"prop\": 84.39306358381504}, {\"age\": 28, \"agetot_x\": 1038, \"y\": \"yes\", \"agetot_y\": 162, \"prop\": 15.606936416184972}, {\"age\": 29, \"agetot_x\": 1185, \"y\": \"no\", \"agetot_y\": 1014, \"prop\": 85.56962025316456}, {\"age\": 29, \"agetot_x\": 1185, \"y\": \"yes\", \"agetot_y\": 171, \"prop\": 14.430379746835442}, {\"age\": 30, \"agetot_x\": 1757, \"y\": \"no\", \"agetot_y\": 1540, \"prop\": 87.64940239043824}, {\"age\": 30, \"agetot_x\": 1757, \"y\": \"yes\", \"agetot_y\": 217, \"prop\": 12.350597609561753}, {\"age\": 31, \"agetot_x\": 1996, \"y\": \"no\", \"agetot_y\": 1790, \"prop\": 89.67935871743487}, {\"age\": 31, \"agetot_x\": 1996, \"y\": \"yes\", \"agetot_y\": 206, \"prop\": 10.32064128256513}, {\"age\": 32, \"agetot_x\": 2085, \"y\": \"no\", \"agetot_y\": 1864, \"prop\": 89.40047961630695}, {\"age\": 32, \"agetot_x\": 2085, \"y\": \"yes\", \"agetot_y\": 221, \"prop\": 10.599520383693045}, {\"age\": 33, \"agetot_x\": 1972, \"y\": \"no\", \"agetot_y\": 1762, \"prop\": 89.35091277890467}, {\"age\": 33, \"agetot_x\": 1972, \"y\": \"yes\", \"agetot_y\": 210, \"prop\": 10.649087221095336}, {\"age\": 34, \"agetot_x\": 1930, \"y\": \"no\", \"agetot_y\": 1732, \"prop\": 89.74093264248705}, {\"age\": 34, \"agetot_x\": 1930, \"y\": \"yes\", \"agetot_y\": 198, \"prop\": 10.259067357512954}, {\"age\": 35, \"agetot_x\": 1894, \"y\": \"no\", \"agetot_y\": 1685, \"prop\": 88.96515311510032}, {\"age\": 35, \"agetot_x\": 1894, \"y\": \"yes\", \"agetot_y\": 209, \"prop\": 11.034846884899684}, {\"age\": 36, \"agetot_x\": 1806, \"y\": \"no\", \"agetot_y\": 1611, \"prop\": 89.20265780730897}, {\"age\": 36, \"agetot_x\": 1806, \"y\": \"yes\", \"agetot_y\": 195, \"prop\": 10.79734219269103}, {\"age\": 37, \"agetot_x\": 1696, \"y\": \"no\", \"agetot_y\": 1526, \"prop\": 89.97641509433963}, {\"age\": 37, \"agetot_x\": 1696, \"y\": \"yes\", \"agetot_y\": 170, \"prop\": 10.023584905660378}, {\"age\": 38, \"agetot_x\": 1466, \"y\": \"no\", \"agetot_y\": 1322, \"prop\": 90.17735334242838}, {\"age\": 38, \"agetot_x\": 1466, \"y\": \"yes\", \"agetot_y\": 144, \"prop\": 9.822646657571624}, {\"age\": 39, \"agetot_x\": 1487, \"y\": \"no\", \"agetot_y\": 1344, \"prop\": 90.38332212508406}, {\"age\": 39, \"agetot_x\": 1487, \"y\": \"yes\", \"agetot_y\": 143, \"prop\": 9.616677874915938}, {\"age\": 40, \"agetot_x\": 1355, \"y\": \"no\", \"agetot_y\": 1239, \"prop\": 91.43911439114392}, {\"age\": 40, \"agetot_x\": 1355, \"y\": \"yes\", \"agetot_y\": 116, \"prop\": 8.56088560885609}, {\"age\": 41, \"agetot_x\": 1291, \"y\": \"no\", \"agetot_y\": 1171, \"prop\": 90.70487993803253}, {\"age\": 41, \"agetot_x\": 1291, \"y\": \"yes\", \"agetot_y\": 120, \"prop\": 9.295120061967467}, {\"age\": 42, \"agetot_x\": 1242, \"y\": \"no\", \"agetot_y\": 1131, \"prop\": 91.06280193236715}, {\"age\": 42, \"agetot_x\": 1242, \"y\": \"yes\", \"agetot_y\": 111, \"prop\": 8.937198067632849}, {\"age\": 43, \"agetot_x\": 1161, \"y\": \"no\", \"agetot_y\": 1058, \"prop\": 91.12833763996555}, {\"age\": 43, \"agetot_x\": 1161, \"y\": \"yes\", \"agetot_y\": 103, \"prop\": 8.871662360034453}, {\"age\": 44, \"agetot_x\": 1136, \"y\": \"no\", \"agetot_y\": 1043, \"prop\": 91.81338028169014}, {\"age\": 44, \"agetot_x\": 1136, \"y\": \"yes\", \"agetot_y\": 93, \"prop\": 8.18661971830986}, {\"age\": 45, \"agetot_x\": 1216, \"y\": \"no\", \"agetot_y\": 1110, \"prop\": 91.2828947368421}, {\"age\": 45, \"agetot_x\": 1216, \"y\": \"yes\", \"agetot_y\": 106, \"prop\": 8.717105263157894}, {\"age\": 46, \"agetot_x\": 1175, \"y\": \"no\", \"agetot_y\": 1057, \"prop\": 89.95744680851064}, {\"age\": 46, \"agetot_x\": 1175, \"y\": \"yes\", \"agetot_y\": 118, \"prop\": 10.042553191489361}, {\"age\": 47, \"agetot_x\": 1088, \"y\": \"no\", \"agetot_y\": 975, \"prop\": 89.61397058823529}, {\"age\": 47, \"agetot_x\": 1088, \"y\": \"yes\", \"agetot_y\": 113, \"prop\": 10.386029411764707}, {\"age\": 48, \"agetot_x\": 997, \"y\": \"no\", \"agetot_y\": 915, \"prop\": 91.7753259779338}, {\"age\": 48, \"agetot_x\": 997, \"y\": \"yes\", \"agetot_y\": 82, \"prop\": 8.224674022066198}, {\"age\": 49, \"agetot_x\": 994, \"y\": \"no\", \"agetot_y\": 893, \"prop\": 89.83903420523139}, {\"age\": 49, \"agetot_x\": 994, \"y\": \"yes\", \"agetot_y\": 101, \"prop\": 10.160965794768611}, {\"age\": 50, \"agetot_x\": 939, \"y\": \"no\", \"agetot_y\": 867, \"prop\": 92.33226837060703}, {\"age\": 50, \"agetot_x\": 939, \"y\": \"yes\", \"agetot_y\": 72, \"prop\": 7.667731629392971}, {\"age\": 51, \"agetot_x\": 936, \"y\": \"no\", \"agetot_y\": 859, \"prop\": 91.77350427350427}, {\"age\": 51, \"agetot_x\": 936, \"y\": \"yes\", \"agetot_y\": 77, \"prop\": 8.226495726495726}, {\"age\": 52, \"agetot_x\": 911, \"y\": \"no\", \"agetot_y\": 826, \"prop\": 90.66959385290889}, {\"age\": 52, \"agetot_x\": 911, \"y\": \"yes\", \"agetot_y\": 85, \"prop\": 9.330406147091107}, {\"age\": 53, \"agetot_x\": 891, \"y\": \"no\", \"agetot_y\": 806, \"prop\": 90.46015712682379}, {\"age\": 53, \"agetot_x\": 891, \"y\": \"yes\", \"agetot_y\": 85, \"prop\": 9.539842873176205}, {\"age\": 54, \"agetot_x\": 811, \"y\": \"no\", \"agetot_y\": 727, \"prop\": 89.64241676942046}, {\"age\": 54, \"agetot_x\": 811, \"y\": \"yes\", \"agetot_y\": 84, \"prop\": 10.35758323057953}, {\"age\": 55, \"agetot_x\": 806, \"y\": \"no\", \"agetot_y\": 730, \"prop\": 90.57071960297766}, {\"age\": 55, \"agetot_x\": 806, \"y\": \"yes\", \"agetot_y\": 76, \"prop\": 9.429280397022332}, {\"age\": 56, \"agetot_x\": 778, \"y\": \"no\", \"agetot_y\": 710, \"prop\": 91.25964010282776}, {\"age\": 56, \"agetot_x\": 778, \"y\": \"yes\", \"agetot_y\": 68, \"prop\": 8.740359897172237}, {\"age\": 57, \"agetot_x\": 828, \"y\": \"no\", \"agetot_y\": 750, \"prop\": 90.57971014492753}, {\"age\": 57, \"agetot_x\": 828, \"y\": \"yes\", \"agetot_y\": 78, \"prop\": 9.420289855072465}, {\"age\": 58, \"agetot_x\": 740, \"y\": \"no\", \"agetot_y\": 668, \"prop\": 90.27027027027027}, {\"age\": 58, \"agetot_x\": 740, \"y\": \"yes\", \"agetot_y\": 72, \"prop\": 9.72972972972973}, {\"age\": 59, \"agetot_x\": 770, \"y\": \"no\", \"agetot_y\": 682, \"prop\": 88.57142857142857}, {\"age\": 59, \"agetot_x\": 770, \"y\": \"yes\", \"agetot_y\": 88, \"prop\": 11.428571428571429}, {\"age\": 60, \"agetot_x\": 596, \"y\": \"no\", \"agetot_y\": 498, \"prop\": 83.55704697986577}, {\"age\": 60, \"agetot_x\": 596, \"y\": \"yes\", \"agetot_y\": 98, \"prop\": 16.44295302013423}, {\"age\": 61, \"agetot_x\": 147, \"y\": \"no\", \"agetot_y\": 90, \"prop\": 61.224489795918366}, {\"age\": 61, \"agetot_x\": 147, \"y\": \"yes\", \"agetot_y\": 57, \"prop\": 38.775510204081634}, {\"age\": 62, \"agetot_x\": 80, \"y\": \"no\", \"agetot_y\": 41, \"prop\": 51.24999999999999}, {\"age\": 62, \"agetot_x\": 80, \"y\": \"yes\", \"agetot_y\": 39, \"prop\": 48.75}, {\"age\": 63, \"agetot_x\": 77, \"y\": \"no\", \"agetot_y\": 47, \"prop\": 61.038961038961034}, {\"age\": 63, \"agetot_x\": 77, \"y\": \"yes\", \"agetot_y\": 30, \"prop\": 38.961038961038966}, {\"age\": 64, \"agetot_x\": 74, \"y\": \"no\", \"agetot_y\": 39, \"prop\": 52.702702702702695}, {\"age\": 64, \"agetot_x\": 74, \"y\": \"yes\", \"agetot_y\": 35, \"prop\": 47.2972972972973}, {\"age\": 65, \"agetot_x\": 59, \"y\": \"no\", \"agetot_y\": 38, \"prop\": 64.40677966101694}, {\"age\": 65, \"agetot_x\": 59, \"y\": \"yes\", \"agetot_y\": 21, \"prop\": 35.59322033898305}, {\"age\": 66, \"agetot_x\": 63, \"y\": \"no\", \"agetot_y\": 39, \"prop\": 61.904761904761905}, {\"age\": 66, \"agetot_x\": 63, \"y\": \"yes\", \"agetot_y\": 24, \"prop\": 38.095238095238095}, {\"age\": 67, \"agetot_x\": 54, \"y\": \"no\", \"agetot_y\": 31, \"prop\": 57.407407407407405}, {\"age\": 67, \"agetot_x\": 54, \"y\": \"yes\", \"agetot_y\": 23, \"prop\": 42.592592592592595}, {\"age\": 68, \"agetot_x\": 36, \"y\": \"no\", \"agetot_y\": 15, \"prop\": 41.66666666666667}, {\"age\": 68, \"agetot_x\": 36, \"y\": \"yes\", \"agetot_y\": 21, \"prop\": 58.333333333333336}, {\"age\": 69, \"agetot_x\": 44, \"y\": \"no\", \"agetot_y\": 27, \"prop\": 61.36363636363637}, {\"age\": 69, \"agetot_x\": 44, \"y\": \"yes\", \"agetot_y\": 17, \"prop\": 38.63636363636363}, {\"age\": 70, \"agetot_x\": 67, \"y\": \"no\", \"agetot_y\": 50, \"prop\": 74.6268656716418}, {\"age\": 70, \"agetot_x\": 67, \"y\": \"yes\", \"agetot_y\": 17, \"prop\": 25.37313432835821}, {\"age\": 71, \"agetot_x\": 54, \"y\": \"no\", \"agetot_y\": 29, \"prop\": 53.70370370370371}, {\"age\": 71, \"agetot_x\": 54, \"y\": \"yes\", \"agetot_y\": 25, \"prop\": 46.2962962962963}, {\"age\": 72, \"agetot_x\": 52, \"y\": \"no\", \"agetot_y\": 28, \"prop\": 53.84615384615385}, {\"age\": 72, \"agetot_x\": 52, \"y\": \"yes\", \"agetot_y\": 24, \"prop\": 46.15384615384615}, {\"age\": 73, \"agetot_x\": 44, \"y\": \"no\", \"agetot_y\": 20, \"prop\": 45.45454545454545}, {\"age\": 73, \"agetot_x\": 44, \"y\": \"yes\", \"agetot_y\": 24, \"prop\": 54.54545454545454}, {\"age\": 74, \"agetot_x\": 37, \"y\": \"no\", \"agetot_y\": 24, \"prop\": 64.86486486486487}, {\"age\": 74, \"agetot_x\": 37, \"y\": \"yes\", \"agetot_y\": 13, \"prop\": 35.13513513513514}, {\"age\": 75, \"agetot_x\": 39, \"y\": \"no\", \"agetot_y\": 24, \"prop\": 61.53846153846154}, {\"age\": 75, \"agetot_x\": 39, \"y\": \"yes\", \"agetot_y\": 15, \"prop\": 38.46153846153847}, {\"age\": 76, \"agetot_x\": 32, \"y\": \"no\", \"agetot_y\": 16, \"prop\": 50.0}, {\"age\": 76, \"agetot_x\": 32, \"y\": \"yes\", \"agetot_y\": 16, \"prop\": 50.0}, {\"age\": 77, \"agetot_x\": 44, \"y\": \"no\", \"agetot_y\": 22, \"prop\": 50.0}, {\"age\": 77, \"agetot_x\": 44, \"y\": \"yes\", \"agetot_y\": 22, \"prop\": 50.0}, {\"age\": 78, \"agetot_x\": 30, \"y\": \"no\", \"agetot_y\": 16, \"prop\": 53.333333333333336}, {\"age\": 78, \"agetot_x\": 30, \"y\": \"yes\", \"agetot_y\": 14, \"prop\": 46.666666666666664}, {\"age\": 79, \"agetot_x\": 25, \"y\": \"no\", \"agetot_y\": 15, \"prop\": 60.0}, {\"age\": 79, \"agetot_x\": 25, \"y\": \"yes\", \"agetot_y\": 10, \"prop\": 40.0}, {\"age\": 80, \"agetot_x\": 31, \"y\": \"no\", \"agetot_y\": 19, \"prop\": 61.29032258064516}, {\"age\": 80, \"agetot_x\": 31, \"y\": \"yes\", \"agetot_y\": 12, \"prop\": 38.70967741935484}, {\"age\": 81, \"agetot_x\": 17, \"y\": \"no\", \"agetot_y\": 11, \"prop\": 64.70588235294117}, {\"age\": 81, \"agetot_x\": 17, \"y\": \"yes\", \"agetot_y\": 6, \"prop\": 35.294117647058826}, {\"age\": 82, \"agetot_x\": 19, \"y\": \"no\", \"agetot_y\": 11, \"prop\": 57.89473684210527}, {\"age\": 82, \"agetot_x\": 19, \"y\": \"yes\", \"agetot_y\": 8, \"prop\": 42.10526315789473}, {\"age\": 83, \"agetot_x\": 22, \"y\": \"no\", \"agetot_y\": 16, \"prop\": 72.72727272727273}, {\"age\": 83, \"agetot_x\": 22, \"y\": \"yes\", \"agetot_y\": 6, \"prop\": 27.27272727272727}, {\"age\": 84, \"agetot_x\": 9, \"y\": \"no\", \"agetot_y\": 4, \"prop\": 44.44444444444444}, {\"age\": 84, \"agetot_x\": 9, \"y\": \"yes\", \"agetot_y\": 5, \"prop\": 55.55555555555556}, {\"age\": 85, \"agetot_x\": 5, \"y\": \"no\", \"agetot_y\": 1, \"prop\": 20.0}, {\"age\": 85, \"agetot_x\": 5, \"y\": \"yes\", \"agetot_y\": 4, \"prop\": 80.0}, {\"age\": 86, \"agetot_x\": 9, \"y\": \"no\", \"agetot_y\": 5, \"prop\": 55.55555555555556}, {\"age\": 86, \"agetot_x\": 9, \"y\": \"yes\", \"agetot_y\": 4, \"prop\": 44.44444444444444}, {\"age\": 87, \"agetot_x\": 4, \"y\": \"no\", \"agetot_y\": 1, \"prop\": 25.0}, {\"age\": 87, \"agetot_x\": 4, \"y\": \"yes\", \"agetot_y\": 3, \"prop\": 75.0}, {\"age\": 88, \"agetot_x\": 2, \"y\": \"no\", \"agetot_y\": 2, \"prop\": 100.0}, {\"age\": 89, \"agetot_x\": 3, \"y\": \"no\", \"agetot_y\": 3, \"prop\": 100.0}, {\"age\": 90, \"agetot_x\": 2, \"y\": \"yes\", \"agetot_y\": 2, \"prop\": 100.0}, {\"age\": 92, \"agetot_x\": 2, \"y\": \"yes\", \"agetot_y\": 2, \"prop\": 100.0}, {\"age\": 93, \"agetot_x\": 2, \"y\": \"yes\", \"agetot_y\": 2, \"prop\": 100.0}, {\"age\": 94, \"agetot_x\": 1, \"y\": \"no\", \"agetot_y\": 1, \"prop\": 100.0}, {\"age\": 95, \"agetot_x\": 2, \"y\": \"no\", \"agetot_y\": 1, \"prop\": 50.0}, {\"age\": 95, \"agetot_x\": 2, \"y\": \"yes\", \"agetot_y\": 1, \"prop\": 50.0}]}}, {\"mode\": \"vega-lite\"});\n",
       "</script>"
      ],
      "text/plain": [
       "alt.FacetChart(...)"
      ]
     },
     "execution_count": 11,
     "metadata": {},
     "output_type": "execute_result"
    }
   ],
   "source": [
    "alt.Chart(dfcomb).mark_line().encode(x=\"age\",y=\"prop\").facet(column='y')"
   ]
  },
  {
   "cell_type": "markdown",
   "metadata": {},
   "source": [
    "We can see, in the first graph, with the age group beginning from 22 to 60, individuals would not be inclined to purchase the term deposit. However, in the second graph, we see the opposite, where the age group of 60 and over are much more inclined to purchase the term deposit plan."
   ]
  },
  {
   "cell_type": "code",
   "execution_count": 12,
   "metadata": {},
   "outputs": [
    {
     "data": {
      "text/html": [
       "<div>\n",
       "<style scoped>\n",
       "    .dataframe tbody tr th:only-of-type {\n",
       "        vertical-align: middle;\n",
       "    }\n",
       "\n",
       "    .dataframe tbody tr th {\n",
       "        vertical-align: top;\n",
       "    }\n",
       "\n",
       "    .dataframe thead th {\n",
       "        text-align: right;\n",
       "    }\n",
       "</style>\n",
       "<table border=\"1\" class=\"dataframe\">\n",
       "  <thead>\n",
       "    <tr style=\"text-align: right;\">\n",
       "      <th></th>\n",
       "      <th>age</th>\n",
       "      <th>job</th>\n",
       "      <th>marital</th>\n",
       "      <th>education</th>\n",
       "      <th>default</th>\n",
       "      <th>balance</th>\n",
       "      <th>housing</th>\n",
       "      <th>loan</th>\n",
       "      <th>contact</th>\n",
       "      <th>day</th>\n",
       "      <th>month</th>\n",
       "      <th>duration</th>\n",
       "      <th>campaign</th>\n",
       "      <th>pdays</th>\n",
       "      <th>previous</th>\n",
       "      <th>poutcome</th>\n",
       "      <th>y</th>\n",
       "    </tr>\n",
       "  </thead>\n",
       "  <tbody>\n",
       "    <tr>\n",
       "      <td>0</td>\n",
       "      <td>58</td>\n",
       "      <td>management</td>\n",
       "      <td>married</td>\n",
       "      <td>tertiary</td>\n",
       "      <td>no</td>\n",
       "      <td>2143</td>\n",
       "      <td>yes</td>\n",
       "      <td>no</td>\n",
       "      <td>unknown</td>\n",
       "      <td>5</td>\n",
       "      <td>may</td>\n",
       "      <td>261</td>\n",
       "      <td>1</td>\n",
       "      <td>-1</td>\n",
       "      <td>0</td>\n",
       "      <td>unknown</td>\n",
       "      <td>no</td>\n",
       "    </tr>\n",
       "    <tr>\n",
       "      <td>1</td>\n",
       "      <td>44</td>\n",
       "      <td>technician</td>\n",
       "      <td>single</td>\n",
       "      <td>secondary</td>\n",
       "      <td>no</td>\n",
       "      <td>29</td>\n",
       "      <td>yes</td>\n",
       "      <td>no</td>\n",
       "      <td>unknown</td>\n",
       "      <td>5</td>\n",
       "      <td>may</td>\n",
       "      <td>151</td>\n",
       "      <td>1</td>\n",
       "      <td>-1</td>\n",
       "      <td>0</td>\n",
       "      <td>unknown</td>\n",
       "      <td>no</td>\n",
       "    </tr>\n",
       "    <tr>\n",
       "      <td>2</td>\n",
       "      <td>33</td>\n",
       "      <td>entrepreneur</td>\n",
       "      <td>married</td>\n",
       "      <td>secondary</td>\n",
       "      <td>no</td>\n",
       "      <td>2</td>\n",
       "      <td>yes</td>\n",
       "      <td>yes</td>\n",
       "      <td>unknown</td>\n",
       "      <td>5</td>\n",
       "      <td>may</td>\n",
       "      <td>76</td>\n",
       "      <td>1</td>\n",
       "      <td>-1</td>\n",
       "      <td>0</td>\n",
       "      <td>unknown</td>\n",
       "      <td>no</td>\n",
       "    </tr>\n",
       "    <tr>\n",
       "      <td>3</td>\n",
       "      <td>47</td>\n",
       "      <td>blue-collar</td>\n",
       "      <td>married</td>\n",
       "      <td>unknown</td>\n",
       "      <td>no</td>\n",
       "      <td>1506</td>\n",
       "      <td>yes</td>\n",
       "      <td>no</td>\n",
       "      <td>unknown</td>\n",
       "      <td>5</td>\n",
       "      <td>may</td>\n",
       "      <td>92</td>\n",
       "      <td>1</td>\n",
       "      <td>-1</td>\n",
       "      <td>0</td>\n",
       "      <td>unknown</td>\n",
       "      <td>no</td>\n",
       "    </tr>\n",
       "    <tr>\n",
       "      <td>4</td>\n",
       "      <td>33</td>\n",
       "      <td>unknown</td>\n",
       "      <td>single</td>\n",
       "      <td>unknown</td>\n",
       "      <td>no</td>\n",
       "      <td>1</td>\n",
       "      <td>no</td>\n",
       "      <td>no</td>\n",
       "      <td>unknown</td>\n",
       "      <td>5</td>\n",
       "      <td>may</td>\n",
       "      <td>198</td>\n",
       "      <td>1</td>\n",
       "      <td>-1</td>\n",
       "      <td>0</td>\n",
       "      <td>unknown</td>\n",
       "      <td>no</td>\n",
       "    </tr>\n",
       "  </tbody>\n",
       "</table>\n",
       "</div>"
      ],
      "text/plain": [
       "   age           job  marital  education default  balance housing loan  \\\n",
       "0   58    management  married   tertiary      no     2143     yes   no   \n",
       "1   44    technician   single  secondary      no       29     yes   no   \n",
       "2   33  entrepreneur  married  secondary      no        2     yes  yes   \n",
       "3   47   blue-collar  married    unknown      no     1506     yes   no   \n",
       "4   33       unknown   single    unknown      no        1      no   no   \n",
       "\n",
       "   contact  day month  duration  campaign  pdays  previous poutcome   y  \n",
       "0  unknown    5   may       261         1     -1         0  unknown  no  \n",
       "1  unknown    5   may       151         1     -1         0  unknown  no  \n",
       "2  unknown    5   may        76         1     -1         0  unknown  no  \n",
       "3  unknown    5   may        92         1     -1         0  unknown  no  \n",
       "4  unknown    5   may       198         1     -1         0  unknown  no  "
      ]
     },
     "execution_count": 12,
     "metadata": {},
     "output_type": "execute_result"
    }
   ],
   "source": [
    "df.head()"
   ]
  },
  {
   "cell_type": "code",
   "execution_count": 13,
   "metadata": {},
   "outputs": [
    {
     "data": {
      "text/html": [
       "<div>\n",
       "<style scoped>\n",
       "    .dataframe tbody tr th:only-of-type {\n",
       "        vertical-align: middle;\n",
       "    }\n",
       "\n",
       "    .dataframe tbody tr th {\n",
       "        vertical-align: top;\n",
       "    }\n",
       "\n",
       "    .dataframe thead th {\n",
       "        text-align: right;\n",
       "    }\n",
       "</style>\n",
       "<table border=\"1\" class=\"dataframe\">\n",
       "  <thead>\n",
       "    <tr style=\"text-align: right;\">\n",
       "      <th></th>\n",
       "      <th>housing</th>\n",
       "      <th>y</th>\n",
       "      <th>cat</th>\n",
       "    </tr>\n",
       "  </thead>\n",
       "  <tbody>\n",
       "    <tr>\n",
       "      <td>0</td>\n",
       "      <td>no</td>\n",
       "      <td>no</td>\n",
       "      <td>16727</td>\n",
       "    </tr>\n",
       "    <tr>\n",
       "      <td>1</td>\n",
       "      <td>no</td>\n",
       "      <td>yes</td>\n",
       "      <td>3354</td>\n",
       "    </tr>\n",
       "    <tr>\n",
       "      <td>2</td>\n",
       "      <td>yes</td>\n",
       "      <td>no</td>\n",
       "      <td>23195</td>\n",
       "    </tr>\n",
       "    <tr>\n",
       "      <td>3</td>\n",
       "      <td>yes</td>\n",
       "      <td>yes</td>\n",
       "      <td>1935</td>\n",
       "    </tr>\n",
       "  </tbody>\n",
       "</table>\n",
       "</div>"
      ],
      "text/plain": [
       "  housing    y    cat\n",
       "0      no   no  16727\n",
       "1      no  yes   3354\n",
       "2     yes   no  23195\n",
       "3     yes  yes   1935"
      ]
     },
     "execution_count": 13,
     "metadata": {},
     "output_type": "execute_result"
    }
   ],
   "source": [
    "d2f= df.groupby([\"housing\",\"y\"])[\"y\"].agg(cat=\"count\").reset_index()\n",
    "d2f.head()"
   ]
  },
  {
   "cell_type": "markdown",
   "metadata": {},
   "source": [
    "## Correlation plot on the numeric data"
   ]
  },
  {
   "cell_type": "code",
   "execution_count": 14,
   "metadata": {},
   "outputs": [
    {
     "data": {
      "text/plain": [
       "age           int64\n",
       "job          object\n",
       "marital      object\n",
       "education    object\n",
       "default      object\n",
       "balance       int64\n",
       "housing      object\n",
       "loan         object\n",
       "contact      object\n",
       "day           int64\n",
       "month        object\n",
       "duration      int64\n",
       "campaign      int64\n",
       "pdays         int64\n",
       "previous      int64\n",
       "poutcome     object\n",
       "y            object\n",
       "dtype: object"
      ]
     },
     "execution_count": 14,
     "metadata": {},
     "output_type": "execute_result"
    }
   ],
   "source": [
    "df.dtypes"
   ]
  },
  {
   "cell_type": "code",
   "execution_count": 15,
   "metadata": {},
   "outputs": [
    {
     "data": {
      "text/html": [
       "<div>\n",
       "<style scoped>\n",
       "    .dataframe tbody tr th:only-of-type {\n",
       "        vertical-align: middle;\n",
       "    }\n",
       "\n",
       "    .dataframe tbody tr th {\n",
       "        vertical-align: top;\n",
       "    }\n",
       "\n",
       "    .dataframe thead th {\n",
       "        text-align: right;\n",
       "    }\n",
       "</style>\n",
       "<table border=\"1\" class=\"dataframe\">\n",
       "  <thead>\n",
       "    <tr style=\"text-align: right;\">\n",
       "      <th></th>\n",
       "      <th>age</th>\n",
       "      <th>balance</th>\n",
       "      <th>day</th>\n",
       "      <th>duration</th>\n",
       "      <th>campaign</th>\n",
       "      <th>pdays</th>\n",
       "      <th>previous</th>\n",
       "    </tr>\n",
       "  </thead>\n",
       "  <tbody>\n",
       "    <tr>\n",
       "      <td>count</td>\n",
       "      <td>45211.000000</td>\n",
       "      <td>45211.000000</td>\n",
       "      <td>45211.000000</td>\n",
       "      <td>45211.000000</td>\n",
       "      <td>45211.000000</td>\n",
       "      <td>45211.000000</td>\n",
       "      <td>45211.000000</td>\n",
       "    </tr>\n",
       "    <tr>\n",
       "      <td>mean</td>\n",
       "      <td>40.936210</td>\n",
       "      <td>1362.272058</td>\n",
       "      <td>15.806419</td>\n",
       "      <td>258.163080</td>\n",
       "      <td>2.763841</td>\n",
       "      <td>40.197828</td>\n",
       "      <td>0.580323</td>\n",
       "    </tr>\n",
       "    <tr>\n",
       "      <td>std</td>\n",
       "      <td>10.618762</td>\n",
       "      <td>3044.765829</td>\n",
       "      <td>8.322476</td>\n",
       "      <td>257.527812</td>\n",
       "      <td>3.098021</td>\n",
       "      <td>100.128746</td>\n",
       "      <td>2.303441</td>\n",
       "    </tr>\n",
       "    <tr>\n",
       "      <td>min</td>\n",
       "      <td>18.000000</td>\n",
       "      <td>-8019.000000</td>\n",
       "      <td>1.000000</td>\n",
       "      <td>0.000000</td>\n",
       "      <td>1.000000</td>\n",
       "      <td>-1.000000</td>\n",
       "      <td>0.000000</td>\n",
       "    </tr>\n",
       "    <tr>\n",
       "      <td>25%</td>\n",
       "      <td>33.000000</td>\n",
       "      <td>72.000000</td>\n",
       "      <td>8.000000</td>\n",
       "      <td>103.000000</td>\n",
       "      <td>1.000000</td>\n",
       "      <td>-1.000000</td>\n",
       "      <td>0.000000</td>\n",
       "    </tr>\n",
       "    <tr>\n",
       "      <td>50%</td>\n",
       "      <td>39.000000</td>\n",
       "      <td>448.000000</td>\n",
       "      <td>16.000000</td>\n",
       "      <td>180.000000</td>\n",
       "      <td>2.000000</td>\n",
       "      <td>-1.000000</td>\n",
       "      <td>0.000000</td>\n",
       "    </tr>\n",
       "    <tr>\n",
       "      <td>75%</td>\n",
       "      <td>48.000000</td>\n",
       "      <td>1428.000000</td>\n",
       "      <td>21.000000</td>\n",
       "      <td>319.000000</td>\n",
       "      <td>3.000000</td>\n",
       "      <td>-1.000000</td>\n",
       "      <td>0.000000</td>\n",
       "    </tr>\n",
       "    <tr>\n",
       "      <td>max</td>\n",
       "      <td>95.000000</td>\n",
       "      <td>102127.000000</td>\n",
       "      <td>31.000000</td>\n",
       "      <td>4918.000000</td>\n",
       "      <td>63.000000</td>\n",
       "      <td>871.000000</td>\n",
       "      <td>275.000000</td>\n",
       "    </tr>\n",
       "  </tbody>\n",
       "</table>\n",
       "</div>"
      ],
      "text/plain": [
       "                age        balance           day      duration      campaign  \\\n",
       "count  45211.000000   45211.000000  45211.000000  45211.000000  45211.000000   \n",
       "mean      40.936210    1362.272058     15.806419    258.163080      2.763841   \n",
       "std       10.618762    3044.765829      8.322476    257.527812      3.098021   \n",
       "min       18.000000   -8019.000000      1.000000      0.000000      1.000000   \n",
       "25%       33.000000      72.000000      8.000000    103.000000      1.000000   \n",
       "50%       39.000000     448.000000     16.000000    180.000000      2.000000   \n",
       "75%       48.000000    1428.000000     21.000000    319.000000      3.000000   \n",
       "max       95.000000  102127.000000     31.000000   4918.000000     63.000000   \n",
       "\n",
       "              pdays      previous  \n",
       "count  45211.000000  45211.000000  \n",
       "mean      40.197828      0.580323  \n",
       "std      100.128746      2.303441  \n",
       "min       -1.000000      0.000000  \n",
       "25%       -1.000000      0.000000  \n",
       "50%       -1.000000      0.000000  \n",
       "75%       -1.000000      0.000000  \n",
       "max      871.000000    275.000000  "
      ]
     },
     "execution_count": 15,
     "metadata": {},
     "output_type": "execute_result"
    }
   ],
   "source": [
    "df.describe()"
   ]
  },
  {
   "cell_type": "code",
   "execution_count": 16,
   "metadata": {},
   "outputs": [],
   "source": [
    "#numeric variables\n",
    "dfnum= df[['age','balance','day','duration','campaign','pdays','previous']]"
   ]
  },
  {
   "cell_type": "code",
   "execution_count": 17,
   "metadata": {},
   "outputs": [
    {
     "data": {
      "text/html": [
       "<div>\n",
       "<style scoped>\n",
       "    .dataframe tbody tr th:only-of-type {\n",
       "        vertical-align: middle;\n",
       "    }\n",
       "\n",
       "    .dataframe tbody tr th {\n",
       "        vertical-align: top;\n",
       "    }\n",
       "\n",
       "    .dataframe thead th {\n",
       "        text-align: right;\n",
       "    }\n",
       "</style>\n",
       "<table border=\"1\" class=\"dataframe\">\n",
       "  <thead>\n",
       "    <tr style=\"text-align: right;\">\n",
       "      <th></th>\n",
       "      <th>age</th>\n",
       "      <th>balance</th>\n",
       "      <th>day</th>\n",
       "      <th>duration</th>\n",
       "      <th>campaign</th>\n",
       "      <th>pdays</th>\n",
       "      <th>previous</th>\n",
       "    </tr>\n",
       "  </thead>\n",
       "  <tbody>\n",
       "    <tr>\n",
       "      <td>0</td>\n",
       "      <td>58</td>\n",
       "      <td>2143</td>\n",
       "      <td>5</td>\n",
       "      <td>261</td>\n",
       "      <td>1</td>\n",
       "      <td>-1</td>\n",
       "      <td>0</td>\n",
       "    </tr>\n",
       "    <tr>\n",
       "      <td>1</td>\n",
       "      <td>44</td>\n",
       "      <td>29</td>\n",
       "      <td>5</td>\n",
       "      <td>151</td>\n",
       "      <td>1</td>\n",
       "      <td>-1</td>\n",
       "      <td>0</td>\n",
       "    </tr>\n",
       "    <tr>\n",
       "      <td>2</td>\n",
       "      <td>33</td>\n",
       "      <td>2</td>\n",
       "      <td>5</td>\n",
       "      <td>76</td>\n",
       "      <td>1</td>\n",
       "      <td>-1</td>\n",
       "      <td>0</td>\n",
       "    </tr>\n",
       "    <tr>\n",
       "      <td>3</td>\n",
       "      <td>47</td>\n",
       "      <td>1506</td>\n",
       "      <td>5</td>\n",
       "      <td>92</td>\n",
       "      <td>1</td>\n",
       "      <td>-1</td>\n",
       "      <td>0</td>\n",
       "    </tr>\n",
       "    <tr>\n",
       "      <td>4</td>\n",
       "      <td>33</td>\n",
       "      <td>1</td>\n",
       "      <td>5</td>\n",
       "      <td>198</td>\n",
       "      <td>1</td>\n",
       "      <td>-1</td>\n",
       "      <td>0</td>\n",
       "    </tr>\n",
       "  </tbody>\n",
       "</table>\n",
       "</div>"
      ],
      "text/plain": [
       "   age  balance  day  duration  campaign  pdays  previous\n",
       "0   58     2143    5       261         1     -1         0\n",
       "1   44       29    5       151         1     -1         0\n",
       "2   33        2    5        76         1     -1         0\n",
       "3   47     1506    5        92         1     -1         0\n",
       "4   33        1    5       198         1     -1         0"
      ]
     },
     "execution_count": 17,
     "metadata": {},
     "output_type": "execute_result"
    }
   ],
   "source": [
    "dfnum.head()"
   ]
  },
  {
   "cell_type": "code",
   "execution_count": 18,
   "metadata": {},
   "outputs": [
    {
     "data": {
      "text/html": [
       "<div>\n",
       "<style scoped>\n",
       "    .dataframe tbody tr th:only-of-type {\n",
       "        vertical-align: middle;\n",
       "    }\n",
       "\n",
       "    .dataframe tbody tr th {\n",
       "        vertical-align: top;\n",
       "    }\n",
       "\n",
       "    .dataframe thead th {\n",
       "        text-align: right;\n",
       "    }\n",
       "</style>\n",
       "<table border=\"1\" class=\"dataframe\">\n",
       "  <thead>\n",
       "    <tr style=\"text-align: right;\">\n",
       "      <th></th>\n",
       "      <th>age</th>\n",
       "      <th>balance</th>\n",
       "      <th>day</th>\n",
       "      <th>duration</th>\n",
       "      <th>campaign</th>\n",
       "      <th>pdays</th>\n",
       "      <th>previous</th>\n",
       "    </tr>\n",
       "  </thead>\n",
       "  <tbody>\n",
       "    <tr>\n",
       "      <td>age</td>\n",
       "      <td>1.000000</td>\n",
       "      <td>0.097783</td>\n",
       "      <td>-0.009120</td>\n",
       "      <td>-0.004648</td>\n",
       "      <td>0.004760</td>\n",
       "      <td>-0.023758</td>\n",
       "      <td>0.001288</td>\n",
       "    </tr>\n",
       "    <tr>\n",
       "      <td>balance</td>\n",
       "      <td>0.097783</td>\n",
       "      <td>1.000000</td>\n",
       "      <td>0.004503</td>\n",
       "      <td>0.021560</td>\n",
       "      <td>-0.014578</td>\n",
       "      <td>0.003435</td>\n",
       "      <td>0.016674</td>\n",
       "    </tr>\n",
       "    <tr>\n",
       "      <td>day</td>\n",
       "      <td>-0.009120</td>\n",
       "      <td>0.004503</td>\n",
       "      <td>1.000000</td>\n",
       "      <td>-0.030206</td>\n",
       "      <td>0.162490</td>\n",
       "      <td>-0.093044</td>\n",
       "      <td>-0.051710</td>\n",
       "    </tr>\n",
       "    <tr>\n",
       "      <td>duration</td>\n",
       "      <td>-0.004648</td>\n",
       "      <td>0.021560</td>\n",
       "      <td>-0.030206</td>\n",
       "      <td>1.000000</td>\n",
       "      <td>-0.084570</td>\n",
       "      <td>-0.001565</td>\n",
       "      <td>0.001203</td>\n",
       "    </tr>\n",
       "    <tr>\n",
       "      <td>campaign</td>\n",
       "      <td>0.004760</td>\n",
       "      <td>-0.014578</td>\n",
       "      <td>0.162490</td>\n",
       "      <td>-0.084570</td>\n",
       "      <td>1.000000</td>\n",
       "      <td>-0.088628</td>\n",
       "      <td>-0.032855</td>\n",
       "    </tr>\n",
       "    <tr>\n",
       "      <td>pdays</td>\n",
       "      <td>-0.023758</td>\n",
       "      <td>0.003435</td>\n",
       "      <td>-0.093044</td>\n",
       "      <td>-0.001565</td>\n",
       "      <td>-0.088628</td>\n",
       "      <td>1.000000</td>\n",
       "      <td>0.454820</td>\n",
       "    </tr>\n",
       "    <tr>\n",
       "      <td>previous</td>\n",
       "      <td>0.001288</td>\n",
       "      <td>0.016674</td>\n",
       "      <td>-0.051710</td>\n",
       "      <td>0.001203</td>\n",
       "      <td>-0.032855</td>\n",
       "      <td>0.454820</td>\n",
       "      <td>1.000000</td>\n",
       "    </tr>\n",
       "  </tbody>\n",
       "</table>\n",
       "</div>"
      ],
      "text/plain": [
       "               age   balance       day  duration  campaign     pdays  previous\n",
       "age       1.000000  0.097783 -0.009120 -0.004648  0.004760 -0.023758  0.001288\n",
       "balance   0.097783  1.000000  0.004503  0.021560 -0.014578  0.003435  0.016674\n",
       "day      -0.009120  0.004503  1.000000 -0.030206  0.162490 -0.093044 -0.051710\n",
       "duration -0.004648  0.021560 -0.030206  1.000000 -0.084570 -0.001565  0.001203\n",
       "campaign  0.004760 -0.014578  0.162490 -0.084570  1.000000 -0.088628 -0.032855\n",
       "pdays    -0.023758  0.003435 -0.093044 -0.001565 -0.088628  1.000000  0.454820\n",
       "previous  0.001288  0.016674 -0.051710  0.001203 -0.032855  0.454820  1.000000"
      ]
     },
     "execution_count": 18,
     "metadata": {},
     "output_type": "execute_result"
    }
   ],
   "source": [
    "dfcorr=dfnum.corr(method='pearson')\n",
    "dfcorr"
   ]
  },
  {
   "cell_type": "code",
   "execution_count": 19,
   "metadata": {},
   "outputs": [
    {
     "data": {
      "text/plain": [
       "<Figure size 640x480 with 2 Axes>"
      ]
     },
     "metadata": {},
     "output_type": "display_data"
    }
   ],
   "source": [
    "from matplotlib import pyplot\n",
    "corfig=pyplot.figure()\n",
    "figaxis=corfig.add_subplot(111)\n",
    "corAx = figaxis.matshow(dfcorr,vmin=-1,vmax=1)\n",
    "corfig.colorbar(corAx)\n",
    "pyplot.show()\n",
    "\n"
   ]
  },
  {
   "cell_type": "markdown",
   "metadata": {},
   "source": [
    "## Checking the skewness and correcting it"
   ]
  },
  {
   "cell_type": "code",
   "execution_count": 20,
   "metadata": {},
   "outputs": [
    {
     "data": {
      "text/plain": [
       "age          0.684818\n",
       "balance      8.360308\n",
       "day          0.093079\n",
       "duration     3.144318\n",
       "campaign     4.898650\n",
       "pdays        2.615715\n",
       "previous    41.846454\n",
       "dtype: float64"
      ]
     },
     "execution_count": 20,
     "metadata": {},
     "output_type": "execute_result"
    }
   ],
   "source": [
    "dfnum.skew()"
   ]
  },
  {
   "cell_type": "code",
   "execution_count": 21,
   "metadata": {},
   "outputs": [
    {
     "data": {
      "image/png": "[encoded data removed]",
      "text/plain": [
       "<Figure size 432x288 with 2 Axes>"
      ]
     },
     "metadata": {
      "needs_background": "light"
     },
     "output_type": "display_data"
    }
   ],
   "source": [
    "#Visualization\n",
    "import matplotlib.pyplot as plt\n",
    "\n",
    "fig,ax=plt.subplots(1,2)\n",
    "ax[0].hist(dfnum.age)\n",
    "ax[1].hist(dfnum.balance)\n",
    "plt.tight_layout()"
   ]
  },
  {
   "cell_type": "code",
   "execution_count": 22,
   "metadata": {},
   "outputs": [
    {
     "data": {
      "text/plain": [
       "<matplotlib.axes._subplots.AxesSubplot at 0x682945afc8>"
      ]
     },
     "execution_count": 22,
     "metadata": {},
     "output_type": "execute_result"
    },
    {
     "data": {
      "image/png": "[encoded data removed]",
      "text/plain": [
       "<Figure size 432x288 with 1 Axes>"
      ]
     },
     "metadata": {
      "needs_background": "light"
     },
     "output_type": "display_data"
    }
   ],
   "source": [
    "#Quick method to get histogram of any numeric column in a dataset\n",
    "#dfnum['age'].plot(kind=\"hist\")\n",
    "dfnum['age'].plot(kind=\"density\")"
   ]
  },
  {
   "cell_type": "code",
   "execution_count": 23,
   "metadata": {},
   "outputs": [],
   "source": [
    "#standardizing the data\n",
    "from sklearn.preprocessing import StandardScaler\n",
    "scale=StandardScaler().fit(dfnum)\n",
    "norm=scale.transform(dfnum)\n"
   ]
  },
  {
   "cell_type": "code",
   "execution_count": 24,
   "metadata": {},
   "outputs": [
    {
     "data": {
      "text/plain": [
       "array([[ 2.68565695e-02,  9.92303940e-01,  2.31522151e-03, ...,\n",
       "         4.63044303e-04, -4.63044303e-04,  0.00000000e+00],\n",
       "       [ 2.74973148e-01,  1.81232302e-01,  3.12469487e-02, ...,\n",
       "         6.24938974e-03, -6.24938974e-03,  0.00000000e+00],\n",
       "       [ 3.97388517e-01,  2.40841525e-02,  6.02103814e-02, ...,\n",
       "         1.20420763e-02, -1.20420763e-02,  0.00000000e+00],\n",
       "       ...,\n",
       "       [ 1.23532190e-02,  9.80536756e-01,  2.91673226e-03, ...,\n",
       "         8.57862429e-04,  3.15693374e-02,  5.14717457e-04],\n",
       "       [ 6.77495453e-02,  7.93977128e-01,  2.02060047e-02, ...,\n",
       "         4.75435406e-03, -1.18858851e-03,  0.00000000e+00],\n",
       "       [ 1.23372483e-02,  9.90647694e-01,  5.66846543e-03, ...,\n",
       "         6.66878286e-04,  6.26865589e-02,  3.66783057e-03]])"
      ]
     },
     "execution_count": 24,
     "metadata": {},
     "output_type": "execute_result"
    }
   ],
   "source": [
    "#normalizing\n",
    "from sklearn.preprocessing import Normalizer\n",
    "norm1=Normalizer().fit(dfnum)\n",
    "normt=norm1.transform(dfnum)\n",
    "normt"
   ]
  },
  {
   "cell_type": "markdown",
   "metadata": {},
   "source": [
    "## Using Logistic Regression for classification"
   ]
  },
  {
   "cell_type": "code",
   "execution_count": 25,
   "metadata": {},
   "outputs": [],
   "source": [
    "from sklearn.linear_model import LogisticRegression\n",
    "from sklearn.model_selection import train_test_split"
   ]
  },
  {
   "cell_type": "code",
   "execution_count": 26,
   "metadata": {},
   "outputs": [
    {
     "data": {
      "text/plain": [
       "age           int64\n",
       "job          object\n",
       "marital      object\n",
       "education    object\n",
       "default      object\n",
       "balance       int64\n",
       "housing      object\n",
       "loan         object\n",
       "contact      object\n",
       "day           int64\n",
       "month        object\n",
       "duration      int64\n",
       "campaign      int64\n",
       "pdays         int64\n",
       "previous      int64\n",
       "poutcome     object\n",
       "y            object\n",
       "dtype: object"
      ]
     },
     "execution_count": 26,
     "metadata": {},
     "output_type": "execute_result"
    }
   ],
   "source": [
    "df.dtypes"
   ]
  },
  {
   "cell_type": "code",
   "execution_count": 48,
   "metadata": {},
   "outputs": [],
   "source": [
    "dfcat=pd.get_dummies(df[['job','marital','education','default','housing','loan','contact','month','poutcome']])\n"
   ]
  },
  {
   "cell_type": "code",
   "execution_count": 56,
   "metadata": {},
   "outputs": [],
   "source": [
    "X=pd.concat([dfcat,dfnum],axis=1)\n",
    "\n",
    "Y=df['y']"
   ]
  },
  {
   "cell_type": "code",
   "execution_count": 59,
   "metadata": {},
   "outputs": [],
   "source": [
    "X_train,X_test,y_train,y_test=train_test_split(X,Y, test_size=0.3, random_state=123)"
   ]
  },
  {
   "cell_type": "code",
   "execution_count": 64,
   "metadata": {},
   "outputs": [
    {
     "name": "stderr",
     "output_type": "stream",
     "text": [
      "C:\\ProgramData\\Anaconda3\\lib\\site-packages\\sklearn\\linear_model\\logistic.py:432: FutureWarning: Default solver will be changed to 'lbfgs' in 0.22. Specify a solver to silence this warning.\n",
      "  FutureWarning)\n"
     ]
    },
    {
     "data": {
      "text/plain": [
       "0.9002506635210852"
      ]
     },
     "execution_count": 64,
     "metadata": {},
     "output_type": "execute_result"
    }
   ],
   "source": [
    "bankm=LogisticRegression()\n",
    "bankm.fit(X_train,y_train)\n",
    "pred=bankm.predict(X_test)\n",
    "\n",
    "bankm.score(X_test,y_test)"
   ]
  },
  {
   "cell_type": "code",
   "execution_count": 66,
   "metadata": {},
   "outputs": [
    {
     "data": {
      "text/plain": [
       "array([[11708,   290],\n",
       "       [ 1063,   503]], dtype=int64)"
      ]
     },
     "execution_count": 66,
     "metadata": {},
     "output_type": "execute_result"
    }
   ],
   "source": [
    "from sklearn.metrics import confusion_matrix\n",
    "cm= confusion_matrix(y_test,pred)\n",
    "cm"
   ]
  },
  {
   "cell_type": "code",
   "execution_count": 69,
   "metadata": {},
   "outputs": [
    {
     "name": "stdout",
     "output_type": "stream",
     "text": [
      "              precision    recall  f1-score   support\n",
      "\n",
      "          no       0.92      0.98      0.95     11998\n",
      "         yes       0.63      0.32      0.43      1566\n",
      "\n",
      "    accuracy                           0.90     13564\n",
      "   macro avg       0.78      0.65      0.69     13564\n",
      "weighted avg       0.88      0.90      0.89     13564\n",
      "\n"
     ]
    }
   ],
   "source": [
    "from sklearn.metrics import classification_report\n",
    "cr= classification_report(y_test,pred)\n",
    "print(cr)"
   ]
  },
  {
   "cell_type": "code",
   "execution_count": null,
   "metadata": {},
   "outputs": [],
   "source": []
  }
 ],
 "metadata": {
  "kernelspec": {
   "display_name": "Python 3",
   "language": "python",
   "name": "python3"
  },
  "language_info": {
   "codemirror_mode": {
    "name": "ipython",
    "version": 3
   },
   "file_extension": ".py",
   "mimetype": "text/x-python",
   "name": "python",
   "nbconvert_exporter": "python",
   "pygments_lexer": "ipython3",
   "version": "3.7.4"
  }
 },
 "nbformat": 4,
 "nbformat_minor": 2
}
